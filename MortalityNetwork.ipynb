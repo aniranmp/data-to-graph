{
 "cells": [
  {
   "cell_type": "markdown",
   "metadata": {
    "pycharm": {
     "name": "#%% md\n"
    }
   },
   "source": [
    "## Import Libraries"
   ]
  },
  {
   "cell_type": "code",
   "execution_count": 2,
   "metadata": {
    "pycharm": {
     "name": "#%%\n"
    }
   },
   "outputs": [],
   "source": [
    "import pandas as pd\n",
    "import numpy as np\n",
    "import networkx as nx\n",
    "from scipy.stats import pearsonr   \n",
    "from scipy.stats import spearmanr   \n",
    "import matplotlib.pyplot as plt\n",
    "from tqdm import tqdm\n",
    "import random\n",
    "import seaborn as sns"
   ]
  },
  {
   "cell_type": "code",
   "execution_count": 3,
   "metadata": {
    "pycharm": {
     "name": "#%%\n"
    }
   },
   "outputs": [
    {
     "name": "stdout",
     "output_type": "stream",
     "text": [
      "   ID  resident_status  education_2003_revision  education_reporting_flag  \\\n",
      "0   1                1                      3.0                         1   \n",
      "1   2                1                      6.0                         1   \n",
      "2   3                1                      3.0                         1   \n",
      "3   4                1                      3.0                         1   \n",
      "4   5                1                      5.0                         1   \n",
      "\n",
      "   month_of_death sex  detail_age_type  detail_age  age_recode_52  \\\n",
      "0               1   M                1          84             42   \n",
      "1               1   M                1          70             40   \n",
      "2               1   F                1          91             44   \n",
      "3               1   F                1          40             34   \n",
      "4               1   F                1          89             43   \n",
      "\n",
      "   age_recode_27  ...  39_cause_recode  number_of_entity_axis_conditions  \\\n",
      "0             22  ...               22                                 2   \n",
      "1             20  ...                8                                 8   \n",
      "2             24  ...               17                                 1   \n",
      "3             14  ...               41                                 6   \n",
      "4             23  ...               21                                 3   \n",
      "\n",
      "  entity_condition_1  number_of_record_axis_conditions  record_condition_1  \\\n",
      "0             11I500                                 2                I500   \n",
      "1             11I469                                 7                C349   \n",
      "2             11G309                                 1                G309   \n",
      "3              11T71                                 5                 X91   \n",
      "4             11I250                                 3                I250   \n",
      "\n",
      "  race  race_recode_3 race_recode_5 hispanic_origin hispanic_originrace_recode  \n",
      "0    1              1             1             100                          6  \n",
      "1    1              1             1             100                          6  \n",
      "2    1              1             1             100                          6  \n",
      "3    3              2             3             100                          8  \n",
      "4    1              1             1             100                          6  \n",
      "\n",
      "[5 rows x 32 columns]\n"
     ]
    }
   ],
   "source": [
    "df = pd.read_csv('mdata.csv')\n",
    "print(df.head())"
   ]
  },
  {
   "cell_type": "code",
   "execution_count": 4,
   "metadata": {
    "pycharm": {
     "name": "#%%\n"
    }
   },
   "outputs": [
    {
     "name": "stdout",
     "output_type": "stream",
     "text": [
      "<class 'pandas.core.frame.DataFrame'>\n",
      "RangeIndex: 1048575 entries, 0 to 1048574\n",
      "Data columns (total 32 columns):\n",
      " #   Column                               Non-Null Count    Dtype  \n",
      "---  ------                               --------------    -----  \n",
      " 0   ID                                   1048575 non-null  int64  \n",
      " 1   resident_status                      1048575 non-null  int64  \n",
      " 2   education_2003_revision              997705 non-null   float64\n",
      " 3   education_reporting_flag             1048575 non-null  int64  \n",
      " 4   month_of_death                       1048575 non-null  int64  \n",
      " 5   sex                                  1048575 non-null  object \n",
      " 6   detail_age_type                      1048575 non-null  int64  \n",
      " 7   detail_age                           1048575 non-null  int64  \n",
      " 8   age_recode_52                        1048575 non-null  int64  \n",
      " 9   age_recode_27                        1048575 non-null  int64  \n",
      " 10  age_recode_12                        1048575 non-null  int64  \n",
      " 11  place_of_death_and_decedents_status  1048575 non-null  int64  \n",
      " 12  marital_status                       1048575 non-null  object \n",
      " 13  day_of_week_of_death                 1048575 non-null  int64  \n",
      " 14  current_data_year                    1048575 non-null  int64  \n",
      " 15  injury_at_work                       1048575 non-null  object \n",
      " 16  manner_of_death                      787378 non-null   float64\n",
      " 17  method_of_disposition                1048575 non-null  object \n",
      " 18  autopsy                              1048575 non-null  object \n",
      " 19  icd_code_10th_revision               1048575 non-null  object \n",
      " 20  358_cause_recode                     1048575 non-null  int64  \n",
      " 21  113_cause_recode                     1048575 non-null  int64  \n",
      " 22  39_cause_recode                      1048575 non-null  int64  \n",
      " 23  number_of_entity_axis_conditions     1048575 non-null  int64  \n",
      " 24  entity_condition_1                   1048575 non-null  object \n",
      " 25  number_of_record_axis_conditions     1048575 non-null  int64  \n",
      " 26  record_condition_1                   1048575 non-null  object \n",
      " 27  race                                 1048575 non-null  int64  \n",
      " 28  race_recode_3                        1048575 non-null  int64  \n",
      " 29  race_recode_5                        1048575 non-null  int64  \n",
      " 30  hispanic_origin                      1048575 non-null  int64  \n",
      " 31  hispanic_originrace_recode           1048575 non-null  int64  \n",
      "dtypes: float64(2), int64(22), object(8)\n",
      "memory usage: 256.0+ MB\n"
     ]
    }
   ],
   "source": [
    "df.info()"
   ]
  },
  {
   "cell_type": "code",
   "execution_count": 5,
   "metadata": {
    "pycharm": {
     "name": "#%%\n"
    }
   },
   "outputs": [
    {
     "data": {
      "text/html": [
       "<div>\n",
       "<style scoped>\n",
       "    .dataframe tbody tr th:only-of-type {\n",
       "        vertical-align: middle;\n",
       "    }\n",
       "\n",
       "    .dataframe tbody tr th {\n",
       "        vertical-align: top;\n",
       "    }\n",
       "\n",
       "    .dataframe thead th {\n",
       "        text-align: right;\n",
       "    }\n",
       "</style>\n",
       "<table border=\"1\" class=\"dataframe\">\n",
       "  <thead>\n",
       "    <tr style=\"text-align: right;\">\n",
       "      <th></th>\n",
       "      <th>ID</th>\n",
       "      <th>resident_status</th>\n",
       "      <th>education_2003_revision</th>\n",
       "      <th>education_reporting_flag</th>\n",
       "      <th>month_of_death</th>\n",
       "      <th>sex</th>\n",
       "      <th>detail_age_type</th>\n",
       "      <th>detail_age</th>\n",
       "      <th>age_recode_52</th>\n",
       "      <th>age_recode_27</th>\n",
       "      <th>...</th>\n",
       "      <th>39_cause_recode</th>\n",
       "      <th>number_of_entity_axis_conditions</th>\n",
       "      <th>entity_condition_1</th>\n",
       "      <th>number_of_record_axis_conditions</th>\n",
       "      <th>record_condition_1</th>\n",
       "      <th>race</th>\n",
       "      <th>race_recode_3</th>\n",
       "      <th>race_recode_5</th>\n",
       "      <th>hispanic_origin</th>\n",
       "      <th>hispanic_originrace_recode</th>\n",
       "    </tr>\n",
       "  </thead>\n",
       "  <tbody>\n",
       "    <tr>\n",
       "      <th>0</th>\n",
       "      <td>1</td>\n",
       "      <td>1</td>\n",
       "      <td>3.0</td>\n",
       "      <td>1</td>\n",
       "      <td>1</td>\n",
       "      <td>M</td>\n",
       "      <td>1</td>\n",
       "      <td>84</td>\n",
       "      <td>42</td>\n",
       "      <td>22</td>\n",
       "      <td>...</td>\n",
       "      <td>22</td>\n",
       "      <td>2</td>\n",
       "      <td>11I500</td>\n",
       "      <td>2</td>\n",
       "      <td>I500</td>\n",
       "      <td>1</td>\n",
       "      <td>1</td>\n",
       "      <td>1</td>\n",
       "      <td>100</td>\n",
       "      <td>6</td>\n",
       "    </tr>\n",
       "    <tr>\n",
       "      <th>1</th>\n",
       "      <td>2</td>\n",
       "      <td>1</td>\n",
       "      <td>6.0</td>\n",
       "      <td>1</td>\n",
       "      <td>1</td>\n",
       "      <td>M</td>\n",
       "      <td>1</td>\n",
       "      <td>70</td>\n",
       "      <td>40</td>\n",
       "      <td>20</td>\n",
       "      <td>...</td>\n",
       "      <td>8</td>\n",
       "      <td>8</td>\n",
       "      <td>11I469</td>\n",
       "      <td>7</td>\n",
       "      <td>C349</td>\n",
       "      <td>1</td>\n",
       "      <td>1</td>\n",
       "      <td>1</td>\n",
       "      <td>100</td>\n",
       "      <td>6</td>\n",
       "    </tr>\n",
       "    <tr>\n",
       "      <th>2</th>\n",
       "      <td>3</td>\n",
       "      <td>1</td>\n",
       "      <td>3.0</td>\n",
       "      <td>1</td>\n",
       "      <td>1</td>\n",
       "      <td>F</td>\n",
       "      <td>1</td>\n",
       "      <td>91</td>\n",
       "      <td>44</td>\n",
       "      <td>24</td>\n",
       "      <td>...</td>\n",
       "      <td>17</td>\n",
       "      <td>1</td>\n",
       "      <td>11G309</td>\n",
       "      <td>1</td>\n",
       "      <td>G309</td>\n",
       "      <td>1</td>\n",
       "      <td>1</td>\n",
       "      <td>1</td>\n",
       "      <td>100</td>\n",
       "      <td>6</td>\n",
       "    </tr>\n",
       "    <tr>\n",
       "      <th>3</th>\n",
       "      <td>4</td>\n",
       "      <td>1</td>\n",
       "      <td>3.0</td>\n",
       "      <td>1</td>\n",
       "      <td>1</td>\n",
       "      <td>F</td>\n",
       "      <td>1</td>\n",
       "      <td>40</td>\n",
       "      <td>34</td>\n",
       "      <td>14</td>\n",
       "      <td>...</td>\n",
       "      <td>41</td>\n",
       "      <td>6</td>\n",
       "      <td>11T71</td>\n",
       "      <td>5</td>\n",
       "      <td>X91</td>\n",
       "      <td>3</td>\n",
       "      <td>2</td>\n",
       "      <td>3</td>\n",
       "      <td>100</td>\n",
       "      <td>8</td>\n",
       "    </tr>\n",
       "    <tr>\n",
       "      <th>4</th>\n",
       "      <td>5</td>\n",
       "      <td>1</td>\n",
       "      <td>5.0</td>\n",
       "      <td>1</td>\n",
       "      <td>1</td>\n",
       "      <td>F</td>\n",
       "      <td>1</td>\n",
       "      <td>89</td>\n",
       "      <td>43</td>\n",
       "      <td>23</td>\n",
       "      <td>...</td>\n",
       "      <td>21</td>\n",
       "      <td>3</td>\n",
       "      <td>11I250</td>\n",
       "      <td>3</td>\n",
       "      <td>I250</td>\n",
       "      <td>1</td>\n",
       "      <td>1</td>\n",
       "      <td>1</td>\n",
       "      <td>100</td>\n",
       "      <td>6</td>\n",
       "    </tr>\n",
       "    <tr>\n",
       "      <th>...</th>\n",
       "      <td>...</td>\n",
       "      <td>...</td>\n",
       "      <td>...</td>\n",
       "      <td>...</td>\n",
       "      <td>...</td>\n",
       "      <td>...</td>\n",
       "      <td>...</td>\n",
       "      <td>...</td>\n",
       "      <td>...</td>\n",
       "      <td>...</td>\n",
       "      <td>...</td>\n",
       "      <td>...</td>\n",
       "      <td>...</td>\n",
       "      <td>...</td>\n",
       "      <td>...</td>\n",
       "      <td>...</td>\n",
       "      <td>...</td>\n",
       "      <td>...</td>\n",
       "      <td>...</td>\n",
       "      <td>...</td>\n",
       "      <td>...</td>\n",
       "    </tr>\n",
       "    <tr>\n",
       "      <th>1048570</th>\n",
       "      <td>1048571</td>\n",
       "      <td>1</td>\n",
       "      <td>5.0</td>\n",
       "      <td>1</td>\n",
       "      <td>12</td>\n",
       "      <td>M</td>\n",
       "      <td>1</td>\n",
       "      <td>75</td>\n",
       "      <td>41</td>\n",
       "      <td>21</td>\n",
       "      <td>...</td>\n",
       "      <td>6</td>\n",
       "      <td>1</td>\n",
       "      <td>11C189</td>\n",
       "      <td>1</td>\n",
       "      <td>C189</td>\n",
       "      <td>1</td>\n",
       "      <td>1</td>\n",
       "      <td>1</td>\n",
       "      <td>100</td>\n",
       "      <td>6</td>\n",
       "    </tr>\n",
       "    <tr>\n",
       "      <th>1048571</th>\n",
       "      <td>1048572</td>\n",
       "      <td>1</td>\n",
       "      <td>3.0</td>\n",
       "      <td>1</td>\n",
       "      <td>11</td>\n",
       "      <td>F</td>\n",
       "      <td>1</td>\n",
       "      <td>62</td>\n",
       "      <td>38</td>\n",
       "      <td>18</td>\n",
       "      <td>...</td>\n",
       "      <td>5</td>\n",
       "      <td>1</td>\n",
       "      <td>11C169</td>\n",
       "      <td>1</td>\n",
       "      <td>C169</td>\n",
       "      <td>2</td>\n",
       "      <td>3</td>\n",
       "      <td>2</td>\n",
       "      <td>100</td>\n",
       "      <td>7</td>\n",
       "    </tr>\n",
       "    <tr>\n",
       "      <th>1048572</th>\n",
       "      <td>1048573</td>\n",
       "      <td>1</td>\n",
       "      <td>1.0</td>\n",
       "      <td>1</td>\n",
       "      <td>12</td>\n",
       "      <td>F</td>\n",
       "      <td>1</td>\n",
       "      <td>95</td>\n",
       "      <td>45</td>\n",
       "      <td>25</td>\n",
       "      <td>...</td>\n",
       "      <td>31</td>\n",
       "      <td>4</td>\n",
       "      <td>11R092</td>\n",
       "      <td>3</td>\n",
       "      <td>N185</td>\n",
       "      <td>1</td>\n",
       "      <td>1</td>\n",
       "      <td>1</td>\n",
       "      <td>100</td>\n",
       "      <td>6</td>\n",
       "    </tr>\n",
       "    <tr>\n",
       "      <th>1048573</th>\n",
       "      <td>1048574</td>\n",
       "      <td>1</td>\n",
       "      <td>1.0</td>\n",
       "      <td>1</td>\n",
       "      <td>12</td>\n",
       "      <td>M</td>\n",
       "      <td>1</td>\n",
       "      <td>86</td>\n",
       "      <td>43</td>\n",
       "      <td>23</td>\n",
       "      <td>...</td>\n",
       "      <td>22</td>\n",
       "      <td>4</td>\n",
       "      <td>11I469</td>\n",
       "      <td>4</td>\n",
       "      <td>I500</td>\n",
       "      <td>1</td>\n",
       "      <td>1</td>\n",
       "      <td>1</td>\n",
       "      <td>100</td>\n",
       "      <td>6</td>\n",
       "    </tr>\n",
       "    <tr>\n",
       "      <th>1048574</th>\n",
       "      <td>1048575</td>\n",
       "      <td>1</td>\n",
       "      <td>3.0</td>\n",
       "      <td>1</td>\n",
       "      <td>12</td>\n",
       "      <td>F</td>\n",
       "      <td>1</td>\n",
       "      <td>88</td>\n",
       "      <td>43</td>\n",
       "      <td>23</td>\n",
       "      <td>...</td>\n",
       "      <td>21</td>\n",
       "      <td>2</td>\n",
       "      <td>11I251</td>\n",
       "      <td>2</td>\n",
       "      <td>I251</td>\n",
       "      <td>1</td>\n",
       "      <td>1</td>\n",
       "      <td>1</td>\n",
       "      <td>100</td>\n",
       "      <td>6</td>\n",
       "    </tr>\n",
       "  </tbody>\n",
       "</table>\n",
       "<p>1048575 rows × 32 columns</p>\n",
       "</div>"
      ],
      "text/plain": [
       "              ID  resident_status  education_2003_revision  \\\n",
       "0              1                1                      3.0   \n",
       "1              2                1                      6.0   \n",
       "2              3                1                      3.0   \n",
       "3              4                1                      3.0   \n",
       "4              5                1                      5.0   \n",
       "...          ...              ...                      ...   \n",
       "1048570  1048571                1                      5.0   \n",
       "1048571  1048572                1                      3.0   \n",
       "1048572  1048573                1                      1.0   \n",
       "1048573  1048574                1                      1.0   \n",
       "1048574  1048575                1                      3.0   \n",
       "\n",
       "         education_reporting_flag  month_of_death sex  detail_age_type  \\\n",
       "0                               1               1   M                1   \n",
       "1                               1               1   M                1   \n",
       "2                               1               1   F                1   \n",
       "3                               1               1   F                1   \n",
       "4                               1               1   F                1   \n",
       "...                           ...             ...  ..              ...   \n",
       "1048570                         1              12   M                1   \n",
       "1048571                         1              11   F                1   \n",
       "1048572                         1              12   F                1   \n",
       "1048573                         1              12   M                1   \n",
       "1048574                         1              12   F                1   \n",
       "\n",
       "         detail_age  age_recode_52  age_recode_27  ...  39_cause_recode  \\\n",
       "0                84             42             22  ...               22   \n",
       "1                70             40             20  ...                8   \n",
       "2                91             44             24  ...               17   \n",
       "3                40             34             14  ...               41   \n",
       "4                89             43             23  ...               21   \n",
       "...             ...            ...            ...  ...              ...   \n",
       "1048570          75             41             21  ...                6   \n",
       "1048571          62             38             18  ...                5   \n",
       "1048572          95             45             25  ...               31   \n",
       "1048573          86             43             23  ...               22   \n",
       "1048574          88             43             23  ...               21   \n",
       "\n",
       "         number_of_entity_axis_conditions entity_condition_1  \\\n",
       "0                                       2             11I500   \n",
       "1                                       8             11I469   \n",
       "2                                       1             11G309   \n",
       "3                                       6              11T71   \n",
       "4                                       3             11I250   \n",
       "...                                   ...                ...   \n",
       "1048570                                 1             11C189   \n",
       "1048571                                 1             11C169   \n",
       "1048572                                 4             11R092   \n",
       "1048573                                 4             11I469   \n",
       "1048574                                 2             11I251   \n",
       "\n",
       "         number_of_record_axis_conditions  record_condition_1 race  \\\n",
       "0                                       2                I500    1   \n",
       "1                                       7                C349    1   \n",
       "2                                       1                G309    1   \n",
       "3                                       5                 X91    3   \n",
       "4                                       3                I250    1   \n",
       "...                                   ...                 ...  ...   \n",
       "1048570                                 1                C189    1   \n",
       "1048571                                 1                C169    2   \n",
       "1048572                                 3                N185    1   \n",
       "1048573                                 4                I500    1   \n",
       "1048574                                 2                I251    1   \n",
       "\n",
       "         race_recode_3 race_recode_5 hispanic_origin  \\\n",
       "0                    1             1             100   \n",
       "1                    1             1             100   \n",
       "2                    1             1             100   \n",
       "3                    2             3             100   \n",
       "4                    1             1             100   \n",
       "...                ...           ...             ...   \n",
       "1048570              1             1             100   \n",
       "1048571              3             2             100   \n",
       "1048572              1             1             100   \n",
       "1048573              1             1             100   \n",
       "1048574              1             1             100   \n",
       "\n",
       "        hispanic_originrace_recode  \n",
       "0                                6  \n",
       "1                                6  \n",
       "2                                6  \n",
       "3                                8  \n",
       "4                                6  \n",
       "...                            ...  \n",
       "1048570                          6  \n",
       "1048571                          7  \n",
       "1048572                          6  \n",
       "1048573                          6  \n",
       "1048574                          6  \n",
       "\n",
       "[1048575 rows x 32 columns]"
      ]
     },
     "execution_count": 5,
     "metadata": {},
     "output_type": "execute_result"
    }
   ],
   "source": [
    "df.fillna(0,inplace=True)\n",
    "df"
   ]
  },
  {
   "cell_type": "code",
   "execution_count": 6,
   "metadata": {
    "pycharm": {
     "name": "#%%\n"
    }
   },
   "outputs": [
    {
     "data": {
      "text/html": [
       "<div>\n",
       "<style scoped>\n",
       "    .dataframe tbody tr th:only-of-type {\n",
       "        vertical-align: middle;\n",
       "    }\n",
       "\n",
       "    .dataframe tbody tr th {\n",
       "        vertical-align: top;\n",
       "    }\n",
       "\n",
       "    .dataframe thead th {\n",
       "        text-align: right;\n",
       "    }\n",
       "</style>\n",
       "<table border=\"1\" class=\"dataframe\">\n",
       "  <thead>\n",
       "    <tr style=\"text-align: right;\">\n",
       "      <th></th>\n",
       "      <th>ID</th>\n",
       "      <th>resident_status</th>\n",
       "      <th>education_2003_revision</th>\n",
       "      <th>education_reporting_flag</th>\n",
       "      <th>month_of_death</th>\n",
       "      <th>sex</th>\n",
       "      <th>detail_age_type</th>\n",
       "      <th>detail_age</th>\n",
       "      <th>age_recode_52</th>\n",
       "      <th>age_recode_27</th>\n",
       "      <th>...</th>\n",
       "      <th>39_cause_recode</th>\n",
       "      <th>number_of_entity_axis_conditions</th>\n",
       "      <th>entity_condition_1</th>\n",
       "      <th>number_of_record_axis_conditions</th>\n",
       "      <th>record_condition_1</th>\n",
       "      <th>race</th>\n",
       "      <th>race_recode_3</th>\n",
       "      <th>race_recode_5</th>\n",
       "      <th>hispanic_origin</th>\n",
       "      <th>hispanic_originrace_recode</th>\n",
       "    </tr>\n",
       "  </thead>\n",
       "  <tbody>\n",
       "    <tr>\n",
       "      <th>786467</th>\n",
       "      <td>786468</td>\n",
       "      <td>2</td>\n",
       "      <td>3.0</td>\n",
       "      <td>1</td>\n",
       "      <td>8</td>\n",
       "      <td>M</td>\n",
       "      <td>1</td>\n",
       "      <td>62</td>\n",
       "      <td>38</td>\n",
       "      <td>18</td>\n",
       "      <td>...</td>\n",
       "      <td>12</td>\n",
       "      <td>2</td>\n",
       "      <td>11C64</td>\n",
       "      <td>2</td>\n",
       "      <td>C64</td>\n",
       "      <td>1</td>\n",
       "      <td>1</td>\n",
       "      <td>1</td>\n",
       "      <td>100</td>\n",
       "      <td>6</td>\n",
       "    </tr>\n",
       "    <tr>\n",
       "      <th>120778</th>\n",
       "      <td>120779</td>\n",
       "      <td>1</td>\n",
       "      <td>3.0</td>\n",
       "      <td>1</td>\n",
       "      <td>8</td>\n",
       "      <td>M</td>\n",
       "      <td>1</td>\n",
       "      <td>76</td>\n",
       "      <td>41</td>\n",
       "      <td>21</td>\n",
       "      <td>...</td>\n",
       "      <td>21</td>\n",
       "      <td>2</td>\n",
       "      <td>11I519</td>\n",
       "      <td>1</td>\n",
       "      <td>I251</td>\n",
       "      <td>1</td>\n",
       "      <td>1</td>\n",
       "      <td>1</td>\n",
       "      <td>100</td>\n",
       "      <td>6</td>\n",
       "    </tr>\n",
       "    <tr>\n",
       "      <th>687251</th>\n",
       "      <td>687252</td>\n",
       "      <td>1</td>\n",
       "      <td>1.0</td>\n",
       "      <td>1</td>\n",
       "      <td>2</td>\n",
       "      <td>F</td>\n",
       "      <td>1</td>\n",
       "      <td>85</td>\n",
       "      <td>43</td>\n",
       "      <td>23</td>\n",
       "      <td>...</td>\n",
       "      <td>16</td>\n",
       "      <td>5</td>\n",
       "      <td>61N189</td>\n",
       "      <td>5</td>\n",
       "      <td>E112</td>\n",
       "      <td>2</td>\n",
       "      <td>3</td>\n",
       "      <td>2</td>\n",
       "      <td>100</td>\n",
       "      <td>7</td>\n",
       "    </tr>\n",
       "    <tr>\n",
       "      <th>552595</th>\n",
       "      <td>552596</td>\n",
       "      <td>1</td>\n",
       "      <td>3.0</td>\n",
       "      <td>1</td>\n",
       "      <td>5</td>\n",
       "      <td>F</td>\n",
       "      <td>1</td>\n",
       "      <td>90</td>\n",
       "      <td>44</td>\n",
       "      <td>24</td>\n",
       "      <td>...</td>\n",
       "      <td>28</td>\n",
       "      <td>4</td>\n",
       "      <td>11R54</td>\n",
       "      <td>3</td>\n",
       "      <td>J449</td>\n",
       "      <td>1</td>\n",
       "      <td>1</td>\n",
       "      <td>1</td>\n",
       "      <td>100</td>\n",
       "      <td>6</td>\n",
       "    </tr>\n",
       "    <tr>\n",
       "      <th>790089</th>\n",
       "      <td>790090</td>\n",
       "      <td>1</td>\n",
       "      <td>5.0</td>\n",
       "      <td>1</td>\n",
       "      <td>9</td>\n",
       "      <td>F</td>\n",
       "      <td>1</td>\n",
       "      <td>48</td>\n",
       "      <td>35</td>\n",
       "      <td>15</td>\n",
       "      <td>...</td>\n",
       "      <td>32</td>\n",
       "      <td>4</td>\n",
       "      <td>11O268</td>\n",
       "      <td>1</td>\n",
       "      <td>O268</td>\n",
       "      <td>1</td>\n",
       "      <td>1</td>\n",
       "      <td>1</td>\n",
       "      <td>100</td>\n",
       "      <td>6</td>\n",
       "    </tr>\n",
       "    <tr>\n",
       "      <th>808469</th>\n",
       "      <td>808470</td>\n",
       "      <td>1</td>\n",
       "      <td>8.0</td>\n",
       "      <td>1</td>\n",
       "      <td>10</td>\n",
       "      <td>M</td>\n",
       "      <td>1</td>\n",
       "      <td>86</td>\n",
       "      <td>43</td>\n",
       "      <td>23</td>\n",
       "      <td>...</td>\n",
       "      <td>21</td>\n",
       "      <td>3</td>\n",
       "      <td>11I249</td>\n",
       "      <td>3</td>\n",
       "      <td>I251</td>\n",
       "      <td>1</td>\n",
       "      <td>1</td>\n",
       "      <td>1</td>\n",
       "      <td>100</td>\n",
       "      <td>6</td>\n",
       "    </tr>\n",
       "    <tr>\n",
       "      <th>479442</th>\n",
       "      <td>479443</td>\n",
       "      <td>1</td>\n",
       "      <td>6.0</td>\n",
       "      <td>1</td>\n",
       "      <td>7</td>\n",
       "      <td>M</td>\n",
       "      <td>1</td>\n",
       "      <td>81</td>\n",
       "      <td>42</td>\n",
       "      <td>22</td>\n",
       "      <td>...</td>\n",
       "      <td>31</td>\n",
       "      <td>2</td>\n",
       "      <td>11A419</td>\n",
       "      <td>2</td>\n",
       "      <td>N179</td>\n",
       "      <td>1</td>\n",
       "      <td>1</td>\n",
       "      <td>1</td>\n",
       "      <td>100</td>\n",
       "      <td>6</td>\n",
       "    </tr>\n",
       "    <tr>\n",
       "      <th>779900</th>\n",
       "      <td>779901</td>\n",
       "      <td>1</td>\n",
       "      <td>3.0</td>\n",
       "      <td>1</td>\n",
       "      <td>5</td>\n",
       "      <td>F</td>\n",
       "      <td>1</td>\n",
       "      <td>75</td>\n",
       "      <td>41</td>\n",
       "      <td>21</td>\n",
       "      <td>...</td>\n",
       "      <td>16</td>\n",
       "      <td>4</td>\n",
       "      <td>11N185</td>\n",
       "      <td>3</td>\n",
       "      <td>E112</td>\n",
       "      <td>78</td>\n",
       "      <td>2</td>\n",
       "      <td>4</td>\n",
       "      <td>100</td>\n",
       "      <td>8</td>\n",
       "    </tr>\n",
       "    <tr>\n",
       "      <th>778650</th>\n",
       "      <td>778651</td>\n",
       "      <td>1</td>\n",
       "      <td>2.0</td>\n",
       "      <td>1</td>\n",
       "      <td>4</td>\n",
       "      <td>F</td>\n",
       "      <td>1</td>\n",
       "      <td>55</td>\n",
       "      <td>37</td>\n",
       "      <td>17</td>\n",
       "      <td>...</td>\n",
       "      <td>37</td>\n",
       "      <td>7</td>\n",
       "      <td>11A419</td>\n",
       "      <td>7</td>\n",
       "      <td>A047</td>\n",
       "      <td>1</td>\n",
       "      <td>1</td>\n",
       "      <td>1</td>\n",
       "      <td>100</td>\n",
       "      <td>6</td>\n",
       "    </tr>\n",
       "    <tr>\n",
       "      <th>491247</th>\n",
       "      <td>491248</td>\n",
       "      <td>1</td>\n",
       "      <td>8.0</td>\n",
       "      <td>1</td>\n",
       "      <td>1</td>\n",
       "      <td>M</td>\n",
       "      <td>1</td>\n",
       "      <td>63</td>\n",
       "      <td>38</td>\n",
       "      <td>18</td>\n",
       "      <td>...</td>\n",
       "      <td>11</td>\n",
       "      <td>1</td>\n",
       "      <td>11C61</td>\n",
       "      <td>1</td>\n",
       "      <td>C61</td>\n",
       "      <td>1</td>\n",
       "      <td>1</td>\n",
       "      <td>1</td>\n",
       "      <td>100</td>\n",
       "      <td>6</td>\n",
       "    </tr>\n",
       "    <tr>\n",
       "      <th>911878</th>\n",
       "      <td>911879</td>\n",
       "      <td>1</td>\n",
       "      <td>3.0</td>\n",
       "      <td>1</td>\n",
       "      <td>12</td>\n",
       "      <td>M</td>\n",
       "      <td>1</td>\n",
       "      <td>91</td>\n",
       "      <td>44</td>\n",
       "      <td>24</td>\n",
       "      <td>...</td>\n",
       "      <td>27</td>\n",
       "      <td>1</td>\n",
       "      <td>11J189</td>\n",
       "      <td>1</td>\n",
       "      <td>J189</td>\n",
       "      <td>1</td>\n",
       "      <td>1</td>\n",
       "      <td>1</td>\n",
       "      <td>100</td>\n",
       "      <td>6</td>\n",
       "    </tr>\n",
       "    <tr>\n",
       "      <th>259601</th>\n",
       "      <td>259602</td>\n",
       "      <td>1</td>\n",
       "      <td>3.0</td>\n",
       "      <td>1</td>\n",
       "      <td>6</td>\n",
       "      <td>F</td>\n",
       "      <td>1</td>\n",
       "      <td>89</td>\n",
       "      <td>43</td>\n",
       "      <td>23</td>\n",
       "      <td>...</td>\n",
       "      <td>37</td>\n",
       "      <td>4</td>\n",
       "      <td>11J189</td>\n",
       "      <td>4</td>\n",
       "      <td>F019</td>\n",
       "      <td>1</td>\n",
       "      <td>1</td>\n",
       "      <td>1</td>\n",
       "      <td>100</td>\n",
       "      <td>6</td>\n",
       "    </tr>\n",
       "    <tr>\n",
       "      <th>765163</th>\n",
       "      <td>765164</td>\n",
       "      <td>1</td>\n",
       "      <td>3.0</td>\n",
       "      <td>1</td>\n",
       "      <td>8</td>\n",
       "      <td>M</td>\n",
       "      <td>1</td>\n",
       "      <td>87</td>\n",
       "      <td>43</td>\n",
       "      <td>23</td>\n",
       "      <td>...</td>\n",
       "      <td>39</td>\n",
       "      <td>5</td>\n",
       "      <td>11T319</td>\n",
       "      <td>5</td>\n",
       "      <td>X00</td>\n",
       "      <td>78</td>\n",
       "      <td>2</td>\n",
       "      <td>4</td>\n",
       "      <td>100</td>\n",
       "      <td>8</td>\n",
       "    </tr>\n",
       "    <tr>\n",
       "      <th>400498</th>\n",
       "      <td>400499</td>\n",
       "      <td>1</td>\n",
       "      <td>1.0</td>\n",
       "      <td>1</td>\n",
       "      <td>4</td>\n",
       "      <td>M</td>\n",
       "      <td>6</td>\n",
       "      <td>1</td>\n",
       "      <td>1</td>\n",
       "      <td>1</td>\n",
       "      <td>...</td>\n",
       "      <td>33</td>\n",
       "      <td>1</td>\n",
       "      <td>11P072</td>\n",
       "      <td>1</td>\n",
       "      <td>P072</td>\n",
       "      <td>1</td>\n",
       "      <td>1</td>\n",
       "      <td>1</td>\n",
       "      <td>210</td>\n",
       "      <td>1</td>\n",
       "    </tr>\n",
       "    <tr>\n",
       "      <th>645917</th>\n",
       "      <td>645918</td>\n",
       "      <td>1</td>\n",
       "      <td>3.0</td>\n",
       "      <td>1</td>\n",
       "      <td>11</td>\n",
       "      <td>M</td>\n",
       "      <td>1</td>\n",
       "      <td>82</td>\n",
       "      <td>42</td>\n",
       "      <td>22</td>\n",
       "      <td>...</td>\n",
       "      <td>40</td>\n",
       "      <td>3</td>\n",
       "      <td>11S019</td>\n",
       "      <td>3</td>\n",
       "      <td>X72</td>\n",
       "      <td>1</td>\n",
       "      <td>1</td>\n",
       "      <td>1</td>\n",
       "      <td>100</td>\n",
       "      <td>6</td>\n",
       "    </tr>\n",
       "    <tr>\n",
       "      <th>962549</th>\n",
       "      <td>962550</td>\n",
       "      <td>1</td>\n",
       "      <td>6.0</td>\n",
       "      <td>1</td>\n",
       "      <td>10</td>\n",
       "      <td>M</td>\n",
       "      <td>1</td>\n",
       "      <td>68</td>\n",
       "      <td>39</td>\n",
       "      <td>19</td>\n",
       "      <td>...</td>\n",
       "      <td>39</td>\n",
       "      <td>2</td>\n",
       "      <td>11S065</td>\n",
       "      <td>2</td>\n",
       "      <td>W18</td>\n",
       "      <td>1</td>\n",
       "      <td>1</td>\n",
       "      <td>1</td>\n",
       "      <td>100</td>\n",
       "      <td>6</td>\n",
       "    </tr>\n",
       "    <tr>\n",
       "      <th>743020</th>\n",
       "      <td>743021</td>\n",
       "      <td>1</td>\n",
       "      <td>2.0</td>\n",
       "      <td>1</td>\n",
       "      <td>11</td>\n",
       "      <td>M</td>\n",
       "      <td>1</td>\n",
       "      <td>76</td>\n",
       "      <td>41</td>\n",
       "      <td>21</td>\n",
       "      <td>...</td>\n",
       "      <td>17</td>\n",
       "      <td>2</td>\n",
       "      <td>11G309</td>\n",
       "      <td>2</td>\n",
       "      <td>G309</td>\n",
       "      <td>2</td>\n",
       "      <td>3</td>\n",
       "      <td>2</td>\n",
       "      <td>100</td>\n",
       "      <td>7</td>\n",
       "    </tr>\n",
       "    <tr>\n",
       "      <th>589578</th>\n",
       "      <td>589579</td>\n",
       "      <td>1</td>\n",
       "      <td>3.0</td>\n",
       "      <td>1</td>\n",
       "      <td>7</td>\n",
       "      <td>F</td>\n",
       "      <td>1</td>\n",
       "      <td>87</td>\n",
       "      <td>43</td>\n",
       "      <td>23</td>\n",
       "      <td>...</td>\n",
       "      <td>37</td>\n",
       "      <td>1</td>\n",
       "      <td>11G20</td>\n",
       "      <td>1</td>\n",
       "      <td>G20</td>\n",
       "      <td>1</td>\n",
       "      <td>1</td>\n",
       "      <td>1</td>\n",
       "      <td>100</td>\n",
       "      <td>6</td>\n",
       "    </tr>\n",
       "    <tr>\n",
       "      <th>326353</th>\n",
       "      <td>326354</td>\n",
       "      <td>2</td>\n",
       "      <td>4.0</td>\n",
       "      <td>1</td>\n",
       "      <td>9</td>\n",
       "      <td>F</td>\n",
       "      <td>1</td>\n",
       "      <td>89</td>\n",
       "      <td>43</td>\n",
       "      <td>23</td>\n",
       "      <td>...</td>\n",
       "      <td>36</td>\n",
       "      <td>2</td>\n",
       "      <td>11R58</td>\n",
       "      <td>2</td>\n",
       "      <td>R58</td>\n",
       "      <td>1</td>\n",
       "      <td>1</td>\n",
       "      <td>1</td>\n",
       "      <td>100</td>\n",
       "      <td>6</td>\n",
       "    </tr>\n",
       "    <tr>\n",
       "      <th>578323</th>\n",
       "      <td>578324</td>\n",
       "      <td>1</td>\n",
       "      <td>4.0</td>\n",
       "      <td>1</td>\n",
       "      <td>6</td>\n",
       "      <td>M</td>\n",
       "      <td>1</td>\n",
       "      <td>55</td>\n",
       "      <td>37</td>\n",
       "      <td>17</td>\n",
       "      <td>...</td>\n",
       "      <td>8</td>\n",
       "      <td>1</td>\n",
       "      <td>11C349</td>\n",
       "      <td>1</td>\n",
       "      <td>C349</td>\n",
       "      <td>1</td>\n",
       "      <td>1</td>\n",
       "      <td>1</td>\n",
       "      <td>100</td>\n",
       "      <td>6</td>\n",
       "    </tr>\n",
       "    <tr>\n",
       "      <th>389836</th>\n",
       "      <td>389837</td>\n",
       "      <td>1</td>\n",
       "      <td>8.0</td>\n",
       "      <td>1</td>\n",
       "      <td>12</td>\n",
       "      <td>M</td>\n",
       "      <td>1</td>\n",
       "      <td>47</td>\n",
       "      <td>35</td>\n",
       "      <td>15</td>\n",
       "      <td>...</td>\n",
       "      <td>40</td>\n",
       "      <td>3</td>\n",
       "      <td>11S219</td>\n",
       "      <td>3</td>\n",
       "      <td>X72</td>\n",
       "      <td>1</td>\n",
       "      <td>1</td>\n",
       "      <td>1</td>\n",
       "      <td>100</td>\n",
       "      <td>6</td>\n",
       "    </tr>\n",
       "    <tr>\n",
       "      <th>990664</th>\n",
       "      <td>990665</td>\n",
       "      <td>1</td>\n",
       "      <td>4.0</td>\n",
       "      <td>1</td>\n",
       "      <td>6</td>\n",
       "      <td>M</td>\n",
       "      <td>1</td>\n",
       "      <td>55</td>\n",
       "      <td>37</td>\n",
       "      <td>17</td>\n",
       "      <td>...</td>\n",
       "      <td>30</td>\n",
       "      <td>2</td>\n",
       "      <td>11K769</td>\n",
       "      <td>1</td>\n",
       "      <td>K746</td>\n",
       "      <td>1</td>\n",
       "      <td>1</td>\n",
       "      <td>1</td>\n",
       "      <td>100</td>\n",
       "      <td>6</td>\n",
       "    </tr>\n",
       "    <tr>\n",
       "      <th>680525</th>\n",
       "      <td>680526</td>\n",
       "      <td>2</td>\n",
       "      <td>1.0</td>\n",
       "      <td>1</td>\n",
       "      <td>1</td>\n",
       "      <td>M</td>\n",
       "      <td>1</td>\n",
       "      <td>82</td>\n",
       "      <td>42</td>\n",
       "      <td>22</td>\n",
       "      <td>...</td>\n",
       "      <td>37</td>\n",
       "      <td>5</td>\n",
       "      <td>11I469</td>\n",
       "      <td>4</td>\n",
       "      <td>A419</td>\n",
       "      <td>2</td>\n",
       "      <td>3</td>\n",
       "      <td>2</td>\n",
       "      <td>100</td>\n",
       "      <td>7</td>\n",
       "    </tr>\n",
       "    <tr>\n",
       "      <th>330515</th>\n",
       "      <td>330516</td>\n",
       "      <td>1</td>\n",
       "      <td>6.0</td>\n",
       "      <td>1</td>\n",
       "      <td>9</td>\n",
       "      <td>M</td>\n",
       "      <td>1</td>\n",
       "      <td>42</td>\n",
       "      <td>34</td>\n",
       "      <td>14</td>\n",
       "      <td>...</td>\n",
       "      <td>15</td>\n",
       "      <td>4</td>\n",
       "      <td>11C229</td>\n",
       "      <td>4</td>\n",
       "      <td>C229</td>\n",
       "      <td>7</td>\n",
       "      <td>2</td>\n",
       "      <td>4</td>\n",
       "      <td>100</td>\n",
       "      <td>8</td>\n",
       "    </tr>\n",
       "  </tbody>\n",
       "</table>\n",
       "<p>24 rows × 32 columns</p>\n",
       "</div>"
      ],
      "text/plain": [
       "            ID  resident_status  education_2003_revision  \\\n",
       "786467  786468                2                      3.0   \n",
       "120778  120779                1                      3.0   \n",
       "687251  687252                1                      1.0   \n",
       "552595  552596                1                      3.0   \n",
       "790089  790090                1                      5.0   \n",
       "808469  808470                1                      8.0   \n",
       "479442  479443                1                      6.0   \n",
       "779900  779901                1                      3.0   \n",
       "778650  778651                1                      2.0   \n",
       "491247  491248                1                      8.0   \n",
       "911878  911879                1                      3.0   \n",
       "259601  259602                1                      3.0   \n",
       "765163  765164                1                      3.0   \n",
       "400498  400499                1                      1.0   \n",
       "645917  645918                1                      3.0   \n",
       "962549  962550                1                      6.0   \n",
       "743020  743021                1                      2.0   \n",
       "589578  589579                1                      3.0   \n",
       "326353  326354                2                      4.0   \n",
       "578323  578324                1                      4.0   \n",
       "389836  389837                1                      8.0   \n",
       "990664  990665                1                      4.0   \n",
       "680525  680526                2                      1.0   \n",
       "330515  330516                1                      6.0   \n",
       "\n",
       "        education_reporting_flag  month_of_death sex  detail_age_type  \\\n",
       "786467                         1               8   M                1   \n",
       "120778                         1               8   M                1   \n",
       "687251                         1               2   F                1   \n",
       "552595                         1               5   F                1   \n",
       "790089                         1               9   F                1   \n",
       "808469                         1              10   M                1   \n",
       "479442                         1               7   M                1   \n",
       "779900                         1               5   F                1   \n",
       "778650                         1               4   F                1   \n",
       "491247                         1               1   M                1   \n",
       "911878                         1              12   M                1   \n",
       "259601                         1               6   F                1   \n",
       "765163                         1               8   M                1   \n",
       "400498                         1               4   M                6   \n",
       "645917                         1              11   M                1   \n",
       "962549                         1              10   M                1   \n",
       "743020                         1              11   M                1   \n",
       "589578                         1               7   F                1   \n",
       "326353                         1               9   F                1   \n",
       "578323                         1               6   M                1   \n",
       "389836                         1              12   M                1   \n",
       "990664                         1               6   M                1   \n",
       "680525                         1               1   M                1   \n",
       "330515                         1               9   M                1   \n",
       "\n",
       "        detail_age  age_recode_52  age_recode_27  ...  39_cause_recode  \\\n",
       "786467          62             38             18  ...               12   \n",
       "120778          76             41             21  ...               21   \n",
       "687251          85             43             23  ...               16   \n",
       "552595          90             44             24  ...               28   \n",
       "790089          48             35             15  ...               32   \n",
       "808469          86             43             23  ...               21   \n",
       "479442          81             42             22  ...               31   \n",
       "779900          75             41             21  ...               16   \n",
       "778650          55             37             17  ...               37   \n",
       "491247          63             38             18  ...               11   \n",
       "911878          91             44             24  ...               27   \n",
       "259601          89             43             23  ...               37   \n",
       "765163          87             43             23  ...               39   \n",
       "400498           1              1              1  ...               33   \n",
       "645917          82             42             22  ...               40   \n",
       "962549          68             39             19  ...               39   \n",
       "743020          76             41             21  ...               17   \n",
       "589578          87             43             23  ...               37   \n",
       "326353          89             43             23  ...               36   \n",
       "578323          55             37             17  ...                8   \n",
       "389836          47             35             15  ...               40   \n",
       "990664          55             37             17  ...               30   \n",
       "680525          82             42             22  ...               37   \n",
       "330515          42             34             14  ...               15   \n",
       "\n",
       "        number_of_entity_axis_conditions entity_condition_1  \\\n",
       "786467                                 2              11C64   \n",
       "120778                                 2             11I519   \n",
       "687251                                 5             61N189   \n",
       "552595                                 4              11R54   \n",
       "790089                                 4             11O268   \n",
       "808469                                 3             11I249   \n",
       "479442                                 2             11A419   \n",
       "779900                                 4             11N185   \n",
       "778650                                 7             11A419   \n",
       "491247                                 1              11C61   \n",
       "911878                                 1             11J189   \n",
       "259601                                 4             11J189   \n",
       "765163                                 5             11T319   \n",
       "400498                                 1             11P072   \n",
       "645917                                 3             11S019   \n",
       "962549                                 2             11S065   \n",
       "743020                                 2             11G309   \n",
       "589578                                 1              11G20   \n",
       "326353                                 2              11R58   \n",
       "578323                                 1             11C349   \n",
       "389836                                 3             11S219   \n",
       "990664                                 2             11K769   \n",
       "680525                                 5             11I469   \n",
       "330515                                 4             11C229   \n",
       "\n",
       "        number_of_record_axis_conditions  record_condition_1 race  \\\n",
       "786467                                 2                 C64    1   \n",
       "120778                                 1                I251    1   \n",
       "687251                                 5                E112    2   \n",
       "552595                                 3                J449    1   \n",
       "790089                                 1                O268    1   \n",
       "808469                                 3                I251    1   \n",
       "479442                                 2                N179    1   \n",
       "779900                                 3                E112   78   \n",
       "778650                                 7                A047    1   \n",
       "491247                                 1                 C61    1   \n",
       "911878                                 1                J189    1   \n",
       "259601                                 4                F019    1   \n",
       "765163                                 5                 X00   78   \n",
       "400498                                 1                P072    1   \n",
       "645917                                 3                 X72    1   \n",
       "962549                                 2                 W18    1   \n",
       "743020                                 2                G309    2   \n",
       "589578                                 1                 G20    1   \n",
       "326353                                 2                 R58    1   \n",
       "578323                                 1                C349    1   \n",
       "389836                                 3                 X72    1   \n",
       "990664                                 1                K746    1   \n",
       "680525                                 4                A419    2   \n",
       "330515                                 4                C229    7   \n",
       "\n",
       "        race_recode_3 race_recode_5 hispanic_origin hispanic_originrace_recode  \n",
       "786467              1             1             100                          6  \n",
       "120778              1             1             100                          6  \n",
       "687251              3             2             100                          7  \n",
       "552595              1             1             100                          6  \n",
       "790089              1             1             100                          6  \n",
       "808469              1             1             100                          6  \n",
       "479442              1             1             100                          6  \n",
       "779900              2             4             100                          8  \n",
       "778650              1             1             100                          6  \n",
       "491247              1             1             100                          6  \n",
       "911878              1             1             100                          6  \n",
       "259601              1             1             100                          6  \n",
       "765163              2             4             100                          8  \n",
       "400498              1             1             210                          1  \n",
       "645917              1             1             100                          6  \n",
       "962549              1             1             100                          6  \n",
       "743020              3             2             100                          7  \n",
       "589578              1             1             100                          6  \n",
       "326353              1             1             100                          6  \n",
       "578323              1             1             100                          6  \n",
       "389836              1             1             100                          6  \n",
       "990664              1             1             100                          6  \n",
       "680525              3             2             100                          7  \n",
       "330515              2             4             100                          8  \n",
       "\n",
       "[24 rows x 32 columns]"
      ]
     },
     "execution_count": 6,
     "metadata": {},
     "output_type": "execute_result"
    }
   ],
   "source": [
    "df_sub = df.sample(n=24)\n",
    "df_sub"
   ]
  },
  {
   "cell_type": "code",
   "execution_count": 7,
   "metadata": {
    "pycharm": {
     "name": "#%%\n"
    }
   },
   "outputs": [
    {
     "name": "stdout",
     "output_type": "stream",
     "text": [
      "<class 'pandas.core.frame.DataFrame'>\n",
      "Int64Index: 24 entries, 786467 to 330515\n",
      "Data columns (total 32 columns):\n",
      " #   Column                               Non-Null Count  Dtype  \n",
      "---  ------                               --------------  -----  \n",
      " 0   ID                                   24 non-null     int64  \n",
      " 1   resident_status                      24 non-null     int64  \n",
      " 2   education_2003_revision              24 non-null     float64\n",
      " 3   education_reporting_flag             24 non-null     int64  \n",
      " 4   month_of_death                       24 non-null     int64  \n",
      " 5   sex                                  24 non-null     object \n",
      " 6   detail_age_type                      24 non-null     int64  \n",
      " 7   detail_age                           24 non-null     int64  \n",
      " 8   age_recode_52                        24 non-null     int64  \n",
      " 9   age_recode_27                        24 non-null     int64  \n",
      " 10  age_recode_12                        24 non-null     int64  \n",
      " 11  place_of_death_and_decedents_status  24 non-null     int64  \n",
      " 12  marital_status                       24 non-null     object \n",
      " 13  day_of_week_of_death                 24 non-null     int64  \n",
      " 14  current_data_year                    24 non-null     int64  \n",
      " 15  injury_at_work                       24 non-null     object \n",
      " 16  manner_of_death                      24 non-null     float64\n",
      " 17  method_of_disposition                24 non-null     object \n",
      " 18  autopsy                              24 non-null     object \n",
      " 19  icd_code_10th_revision               24 non-null     object \n",
      " 20  358_cause_recode                     24 non-null     int64  \n",
      " 21  113_cause_recode                     24 non-null     int64  \n",
      " 22  39_cause_recode                      24 non-null     int64  \n",
      " 23  number_of_entity_axis_conditions     24 non-null     int64  \n",
      " 24  entity_condition_1                   24 non-null     object \n",
      " 25  number_of_record_axis_conditions     24 non-null     int64  \n",
      " 26  record_condition_1                   24 non-null     object \n",
      " 27  race                                 24 non-null     int64  \n",
      " 28  race_recode_3                        24 non-null     int64  \n",
      " 29  race_recode_5                        24 non-null     int64  \n",
      " 30  hispanic_origin                      24 non-null     int64  \n",
      " 31  hispanic_originrace_recode           24 non-null     int64  \n",
      "dtypes: float64(2), int64(22), object(8)\n",
      "memory usage: 6.2+ KB\n"
     ]
    }
   ],
   "source": [
    "df_sub.info()"
   ]
  },
  {
   "cell_type": "code",
   "execution_count": 8,
   "metadata": {
    "pycharm": {
     "name": "#%%\n"
    }
   },
   "outputs": [
    {
     "name": "stdout",
     "output_type": "stream",
     "text": [
      "int64\n",
      "object\n",
      "resident_status                          int64\n",
      "education_2003_revision                float64\n",
      "education_reporting_flag                 int64\n",
      "month_of_death                           int64\n",
      "sex                                     object\n",
      "detail_age_type                          int64\n",
      "detail_age                               int64\n",
      "age_recode_52                            int64\n",
      "age_recode_27                            int64\n",
      "age_recode_12                            int64\n",
      "place_of_death_and_decedents_status      int64\n",
      "marital_status                          object\n",
      "day_of_week_of_death                     int64\n",
      "current_data_year                        int64\n",
      "injury_at_work                          object\n",
      "manner_of_death                        float64\n",
      "method_of_disposition                   object\n",
      "autopsy                                 object\n",
      "icd_code_10th_revision                  object\n",
      "358_cause_recode                         int64\n",
      "113_cause_recode                         int64\n",
      "39_cause_recode                          int64\n",
      "number_of_entity_axis_conditions         int64\n",
      "entity_condition_1                      object\n",
      "number_of_record_axis_conditions         int64\n",
      "record_condition_1                      object\n",
      "race                                     int64\n",
      "race_recode_3                            int64\n",
      "race_recode_5                            int64\n",
      "hispanic_origin                          int64\n",
      "hispanic_originrace_recode               int64\n",
      "dtype: object\n"
     ]
    }
   ],
   "source": [
    "print(df_sub['ID'].dtype)\n",
    "print(df_sub['sex'].dtype)\n",
    "print(df_sub.iloc[:, 1:].dtypes)"
   ]
  },
  {
   "cell_type": "code",
   "execution_count": 9,
   "metadata": {
    "pycharm": {
     "name": "#%%\n"
    }
   },
   "outputs": [],
   "source": [
    "df['sex'].replace(['M', 'F'], [1, 2], inplace=True)\n",
    "df['marital_status'].replace(['D','M','S','U','W'],[1,2,3,4,5],inplace=True)"
   ]
  },
  {
   "cell_type": "code",
   "execution_count": 10,
   "metadata": {
    "pycharm": {
     "name": "#%%\n"
    }
   },
   "outputs": [],
   "source": [
    "df_sub['sex'].replace(['M', 'F'], [1, 2], inplace=True)\n",
    "df_sub['marital_status'].replace(['D','M','S','U','W'],[1,2,3,4,5],inplace=True)"
   ]
  },
  {
   "cell_type": "code",
   "execution_count": 11,
   "metadata": {
    "pycharm": {
     "name": "#%%\n"
    }
   },
   "outputs": [],
   "source": [
    "corr_matrix_sub = df_sub.corr(method='pearson')\n",
    "G_sub = nx.Graph()"
   ]
  },
  {
   "cell_type": "code",
   "execution_count": 12,
   "metadata": {
    "pycharm": {
     "name": "#%%\n"
    }
   },
   "outputs": [],
   "source": [
    "corr_matrix = df.corr(method='pearson')\n",
    "G = nx.Graph()"
   ]
  },
  {
   "cell_type": "code",
   "execution_count": 13,
   "metadata": {
    "pycharm": {
     "name": "#%%\n"
    }
   },
   "outputs": [],
   "source": [
    "df = df.dropna()"
   ]
  },
  {
   "cell_type": "code",
   "execution_count": 14,
   "metadata": {
    "pycharm": {
     "name": "#%%\n"
    }
   },
   "outputs": [],
   "source": [
    "df_sub = df_sub.dropna()"
   ]
  },
  {
   "cell_type": "code",
   "execution_count": 15,
   "metadata": {
    "pycharm": {
     "name": "#%%\n"
    }
   },
   "outputs": [
    {
     "name": "stdout",
     "output_type": "stream",
     "text": [
      "<class 'pandas.core.frame.DataFrame'>\n",
      "Int64Index: 1048575 entries, 0 to 1048574\n",
      "Data columns (total 32 columns):\n",
      " #   Column                               Non-Null Count    Dtype  \n",
      "---  ------                               --------------    -----  \n",
      " 0   ID                                   1048575 non-null  int64  \n",
      " 1   resident_status                      1048575 non-null  int64  \n",
      " 2   education_2003_revision              1048575 non-null  float64\n",
      " 3   education_reporting_flag             1048575 non-null  int64  \n",
      " 4   month_of_death                       1048575 non-null  int64  \n",
      " 5   sex                                  1048575 non-null  int64  \n",
      " 6   detail_age_type                      1048575 non-null  int64  \n",
      " 7   detail_age                           1048575 non-null  int64  \n",
      " 8   age_recode_52                        1048575 non-null  int64  \n",
      " 9   age_recode_27                        1048575 non-null  int64  \n",
      " 10  age_recode_12                        1048575 non-null  int64  \n",
      " 11  place_of_death_and_decedents_status  1048575 non-null  int64  \n",
      " 12  marital_status                       1048575 non-null  int64  \n",
      " 13  day_of_week_of_death                 1048575 non-null  int64  \n",
      " 14  current_data_year                    1048575 non-null  int64  \n",
      " 15  injury_at_work                       1048575 non-null  object \n",
      " 16  manner_of_death                      1048575 non-null  float64\n",
      " 17  method_of_disposition                1048575 non-null  object \n",
      " 18  autopsy                              1048575 non-null  object \n",
      " 19  icd_code_10th_revision               1048575 non-null  object \n",
      " 20  358_cause_recode                     1048575 non-null  int64  \n",
      " 21  113_cause_recode                     1048575 non-null  int64  \n",
      " 22  39_cause_recode                      1048575 non-null  int64  \n",
      " 23  number_of_entity_axis_conditions     1048575 non-null  int64  \n",
      " 24  entity_condition_1                   1048575 non-null  object \n",
      " 25  number_of_record_axis_conditions     1048575 non-null  int64  \n",
      " 26  record_condition_1                   1048575 non-null  object \n",
      " 27  race                                 1048575 non-null  int64  \n",
      " 28  race_recode_3                        1048575 non-null  int64  \n",
      " 29  race_recode_5                        1048575 non-null  int64  \n",
      " 30  hispanic_origin                      1048575 non-null  int64  \n",
      " 31  hispanic_originrace_recode           1048575 non-null  int64  \n",
      "dtypes: float64(2), int64(24), object(6)\n",
      "memory usage: 264.0+ MB\n"
     ]
    }
   ],
   "source": [
    "df.info()"
   ]
  },
  {
   "cell_type": "code",
   "execution_count": 16,
   "metadata": {
    "pycharm": {
     "name": "#%%\n"
    }
   },
   "outputs": [],
   "source": [
    "# Step 4: Iterate over all pairs of columns and add edges for high correlations\n",
    "threshold = 0.1\n",
    "corr_matrix\n",
    "for col1 in df.columns:\n",
    "    if col1 not in corr_matrix.columns:\n",
    "        continue  # skip this column if it's not in the correlation matrix\n",
    "    for col2 in df.columns:\n",
    "        if col2 not in corr_matrix.columns:\n",
    "            continue  # skip this column if it's not in the correlation matrix\n",
    "        if corr_matrix.loc[col1, col2] > threshold:\n",
    "            G.add_edge(col1, col2, weight=corr_matrix.loc[col1, col2])\n"
   ]
  },
  {
   "cell_type": "code",
   "execution_count": 17,
   "metadata": {
    "pycharm": {
     "name": "#%%\n"
    }
   },
   "outputs": [
    {
     "data": {
      "image/png": "[encoded data removed]",
      "text/plain": [
       "<Figure size 432x288 with 1 Axes>"
      ]
     },
     "metadata": {},
     "output_type": "display_data"
    }
   ],
   "source": [
    "pos = nx.spring_layout(G)\n",
    "nx.draw(G, pos, with_labels=True)\n",
    "edge_labels = nx.get_edge_attributes(G, 'weight')\n",
    "nx.draw_networkx_edge_labels(G, pos, edge_labels=edge_labels)\n",
    "plt.show()"
   ]
  },
  {
   "cell_type": "code",
   "execution_count": 18,
   "metadata": {
    "pycharm": {
     "name": "#%%\n"
    }
   },
   "outputs": [],
   "source": [
    "G = nx.convert_node_labels_to_integers(G, first_label=1)"
   ]
  },
  {
   "cell_type": "code",
   "execution_count": 19,
   "metadata": {
    "pycharm": {
     "name": "#%%\n"
    }
   },
   "outputs": [
    {
     "name": "stdout",
     "output_type": "stream",
     "text": [
      "Nodes: [1, 2, 3, 4, 5, 6, 7, 8, 9, 10, 11, 12, 13, 14, 15, 16, 17, 18, 19, 20, 21, 22, 23, 24, 25]\n"
     ]
    }
   ],
   "source": [
    "nodes = G.nodes()\n",
    "print(\"Nodes:\", nodes)"
   ]
  },
  {
   "cell_type": "code",
   "execution_count": 20,
   "metadata": {
    "pycharm": {
     "name": "#%%\n"
    }
   },
   "outputs": [
    {
     "name": "stdout",
     "output_type": "stream",
     "text": [
      "\n",
      "Edges: [(1, 1), (1, 2), (1, 3), (1, 4), (2, 6), (2, 2), (3, 3), (4, 4), (4, 7), (5, 5), (6, 6), (6, 7), (7, 22), (7, 23), (7, 24), (7, 7), (8, 8), (8, 9), (8, 10), (8, 11), (8, 12), (8, 13), (9, 9), (9, 10), (9, 11), (9, 12), (9, 17), (9, 13), (10, 10), (10, 11), (10, 12), (10, 17), (10, 13), (11, 11), (11, 12), (11, 17), (11, 13), (12, 12), (12, 17), (12, 13), (13, 17), (13, 13), (14, 14), (14, 15), (14, 16), (15, 15), (15, 16), (15, 19), (15, 20), (15, 21), (16, 16), (16, 19), (16, 20), (16, 21), (17, 17), (18, 18), (19, 19), (19, 20), (19, 21), (20, 20), (20, 21), (21, 21), (22, 22), (22, 23), (22, 24), (23, 23), (23, 24), (24, 24), (25, 25)]\n"
     ]
    }
   ],
   "source": [
    "edges = G.edges()\n",
    "print(\"\\nEdges:\", edges)"
   ]
  },
  {
   "cell_type": "code",
   "execution_count": 21,
   "metadata": {
    "pycharm": {
     "name": "#%%\n"
    }
   },
   "outputs": [
    {
     "name": "stdout",
     "output_type": "stream",
     "text": [
      "Name: \n",
      "Type: Graph\n",
      "Number of nodes: 25\n",
      "Number of edges: 69\n",
      "Average degree:   5.5200\n",
      "Node Count: 25\n",
      "Edge Count: 69\n"
     ]
    }
   ],
   "source": [
    "print(nx.info(G))\n",
    "\n",
    "print('Node Count:', G.number_of_nodes())\n",
    "print('Edge Count:', G.number_of_edges())"
   ]
  },
  {
   "cell_type": "code",
   "execution_count": 22,
   "metadata": {
    "pycharm": {
     "name": "#%%\n"
    }
   },
   "outputs": [
    {
     "data": {
      "image/png": "[encoded data removed]",
      "text/plain": [
       "<Figure size 864x576 with 1 Axes>"
      ]
     },
     "metadata": {},
     "output_type": "display_data"
    }
   ],
   "source": [
    "# Draw the graph\n",
    "plt.figure(figsize=(12,8))\n",
    "\n",
    "nx.draw(G, with_labels=True)"
   ]
  },
  {
   "cell_type": "code",
   "execution_count": 23,
   "metadata": {
    "pycharm": {
     "name": "#%%\n"
    }
   },
   "outputs": [
    {
     "data": {
      "text/plain": [
       "False"
      ]
     },
     "execution_count": 23,
     "metadata": {},
     "output_type": "execute_result"
    }
   ],
   "source": [
    "#Connected graphs\n",
    "#G.remove_node(20)\n",
    "nx.is_connected(G)"
   ]
  },
  {
   "cell_type": "code",
   "execution_count": 24,
   "metadata": {
    "pycharm": {
     "name": "#%%\n"
    }
   },
   "outputs": [
    {
     "data": {
      "text/plain": [
       "['bipartite_layout',\n",
       " 'circular_layout',\n",
       " 'kamada_kawai_layout',\n",
       " 'random_layout',\n",
       " 'rescale_layout',\n",
       " 'shell_layout',\n",
       " 'spring_layout',\n",
       " 'spectral_layout',\n",
       " 'planar_layout',\n",
       " 'fruchterman_reingold_layout',\n",
       " 'spiral_layout',\n",
       " 'multipartite_layout']"
      ]
     },
     "execution_count": 24,
     "metadata": {},
     "output_type": "execute_result"
    }
   ],
   "source": [
    "# Available layouts for Plot\n",
    "layouts = [x for x in nx.__dir__() if x.endswith('_layout')]\n",
    "layouts"
   ]
  },
  {
   "cell_type": "code",
   "execution_count": 25,
   "metadata": {
    "pycharm": {
     "name": "#%%\n"
    }
   },
   "outputs": [
    {
     "data": {
      "image/png": "[encoded data removed]",
      "text/plain": [
       "<Figure size 864x576 with 1 Axes>"
      ]
     },
     "metadata": {},
     "output_type": "display_data"
    }
   ],
   "source": [
    "#circular_layout\n",
    "plt.figure(figsize=(12,8))\n",
    "\n",
    "pos = nx.random_layout(G)\n",
    "nx.draw_networkx(G, pos)"
   ]
  },
  {
   "cell_type": "markdown",
   "metadata": {
    "pycharm": {
     "name": "#%% md\n"
    }
   },
   "source": [
    "### Network measurements:\n",
    "\n",
    "1. Clustering coefficient\n",
    "2. Transitivity\n",
    "3. shortest path length\n",
    "4. average shortest path length\n",
    "5. diameter\n",
    "6. Eccentricity\n",
    "7. Radius\n",
    "8. Degree Centrality\n",
    "9. Closeness Centrality\n",
    "10. Betweenness Centrality\n",
    "11. Degree Distribution\n",
    "12. Compare measurements"
   ]
  },
  {
   "cell_type": "markdown",
   "metadata": {
    "pycharm": {
     "name": "#%% md\n"
    }
   },
   "source": [
    "#### Clustering coefficient\n",
    "Measures the degree to which nodes in a network tendo to 'cluster' or form triangles"
   ]
  },
  {
   "cell_type": "code",
   "execution_count": 26,
   "metadata": {
    "pycharm": {
     "name": "#%%\n"
    }
   },
   "outputs": [
    {
     "data": {
      "text/plain": [
       "EdgeView([(1, 1), (1, 2), (1, 3), (1, 4), (2, 6), (2, 2), (3, 3), (4, 4), (4, 7), (5, 5), (6, 6), (6, 7), (7, 22), (7, 23), (7, 24), (7, 7), (8, 8), (8, 9), (8, 10), (8, 11), (8, 12), (8, 13), (9, 9), (9, 10), (9, 11), (9, 12), (9, 17), (9, 13), (10, 10), (10, 11), (10, 12), (10, 17), (10, 13), (11, 11), (11, 12), (11, 17), (11, 13), (12, 12), (12, 17), (12, 13), (13, 17), (13, 13), (14, 14), (14, 15), (14, 16), (15, 15), (15, 16), (15, 19), (15, 20), (15, 21), (16, 16), (16, 19), (16, 20), (16, 21), (17, 17), (18, 18), (19, 19), (19, 20), (19, 21), (20, 20), (20, 21), (21, 21), (22, 22), (22, 23), (22, 24), (23, 23), (23, 24), (24, 24), (25, 25)])"
      ]
     },
     "execution_count": 26,
     "metadata": {},
     "output_type": "execute_result"
    }
   ],
   "source": [
    "G.edges()"
   ]
  },
  {
   "cell_type": "markdown",
   "metadata": {
    "pycharm": {
     "name": "#%% md\n"
    }
   },
   "source": [
    "Local clustering coefficient:\n",
    "\n",
    "(For nodes of degree <= 2, assume LCCoeff of 0)"
   ]
  },
  {
   "cell_type": "code",
   "execution_count": 27,
   "metadata": {
    "pycharm": {
     "name": "#%%\n"
    }
   },
   "outputs": [
    {
     "data": {
      "text/plain": [
       "(0, 1.0, 0.9333333333333333)"
      ]
     },
     "execution_count": 27,
     "metadata": {},
     "output_type": "execute_result"
    }
   ],
   "source": [
    "nx.clustering(G, 1), nx.clustering(G, 14), nx.clustering(G, 10)"
   ]
  },
  {
   "cell_type": "markdown",
   "metadata": {
    "pycharm": {
     "name": "#%% md\n"
    }
   },
   "source": [
    "Global clustering coefficient:"
   ]
  },
  {
   "cell_type": "code",
   "execution_count": 28,
   "metadata": {
    "pycharm": {
     "name": "#%%\n"
    }
   },
   "outputs": [
    {
     "data": {
      "text/plain": [
       "0.6146666666666667"
      ]
     },
     "execution_count": 28,
     "metadata": {},
     "output_type": "execute_result"
    }
   ],
   "source": [
    "nx.average_clustering(G)"
   ]
  },
  {
   "cell_type": "markdown",
   "metadata": {
    "pycharm": {
     "name": "#%% md\n"
    }
   },
   "source": [
    "#### Transitivity\n",
    "ratio of number of triangles and number of 'open triads' in a network"
   ]
  },
  {
   "cell_type": "code",
   "execution_count": 29,
   "metadata": {
    "pycharm": {
     "name": "#%%\n"
    }
   },
   "outputs": [
    {
     "data": {
      "text/plain": [
       "0.8490566037735849"
      ]
     },
     "execution_count": 29,
     "metadata": {},
     "output_type": "execute_result"
    }
   ],
   "source": [
    "nx.transitivity(G)"
   ]
  },
  {
   "cell_type": "markdown",
   "metadata": {
    "pycharm": {
     "name": "#%% md\n"
    }
   },
   "source": [
    "#### shortest path length\n",
    "\n",
    "Path lenght: Number of edges between two nodes.\n",
    "\n",
    "Distance: Least number of edges between two nodes."
   ]
  },
  {
   "cell_type": "code",
   "execution_count": 30,
   "metadata": {
    "pycharm": {
     "name": "#%%\n"
    }
   },
   "outputs": [
    {
     "data": {
      "text/plain": [
       "NodeView((1, 2, 3, 4, 5, 6, 7, 8, 9, 10, 11, 12, 13, 14, 15, 16, 17, 18, 19, 20, 21, 22, 23, 24, 25))"
      ]
     },
     "execution_count": 30,
     "metadata": {},
     "output_type": "execute_result"
    }
   ],
   "source": [
    "G.nodes"
   ]
  },
  {
   "cell_type": "code",
   "execution_count": 31,
   "metadata": {
    "pycharm": {
     "name": "#%%\n"
    }
   },
   "outputs": [
    {
     "data": {
      "text/plain": [
       "[8, 10]"
      ]
     },
     "execution_count": 31,
     "metadata": {},
     "output_type": "execute_result"
    }
   ],
   "source": [
    "nx.shortest_path(G, 8, 10)"
   ]
  },
  {
   "cell_type": "code",
   "execution_count": 32,
   "metadata": {
    "pycharm": {
     "name": "#%%\n"
    }
   },
   "outputs": [
    {
     "data": {
      "text/plain": [
       "2"
      ]
     },
     "execution_count": 32,
     "metadata": {},
     "output_type": "execute_result"
    }
   ],
   "source": [
    "nx.shortest_path_length(G, 8, 17)"
   ]
  },
  {
   "cell_type": "markdown",
   "metadata": {
    "pycharm": {
     "name": "#%% md\n"
    }
   },
   "source": [
    "#### Average shortest path length"
   ]
  },
  {
   "cell_type": "code",
   "execution_count": 33,
   "metadata": {
    "pycharm": {
     "name": "#%%\n"
    }
   },
   "outputs": [
    {
     "ename": "NetworkXError",
     "evalue": "Graph is not connected.",
     "output_type": "error",
     "traceback": [
      "\u001B[1;31m---------------------------------------------------------------------------\u001B[0m",
      "\u001B[1;31mNetworkXError\u001B[0m                             Traceback (most recent call last)",
      "\u001B[1;32m<ipython-input-33-033aa892eae1>\u001B[0m in \u001B[0;36m<module>\u001B[1;34m\u001B[0m\n\u001B[1;32m----> 1\u001B[1;33m \u001B[0mnx\u001B[0m\u001B[1;33m.\u001B[0m\u001B[0maverage_shortest_path_length\u001B[0m\u001B[1;33m(\u001B[0m\u001B[0mG\u001B[0m\u001B[1;33m)\u001B[0m\u001B[1;33m\u001B[0m\u001B[1;33m\u001B[0m\u001B[0m\n\u001B[0m",
      "\u001B[1;32mC:\\ProgramData\\Anaconda3\\lib\\site-packages\\networkx\\algorithms\\shortest_paths\\generic.py\u001B[0m in \u001B[0;36maverage_shortest_path_length\u001B[1;34m(G, weight, method)\u001B[0m\n\u001B[0;32m    387\u001B[0m         \u001B[1;32mraise\u001B[0m \u001B[0mnx\u001B[0m\u001B[1;33m.\u001B[0m\u001B[0mNetworkXError\u001B[0m\u001B[1;33m(\u001B[0m\u001B[1;34m\"Graph is not weakly connected.\"\u001B[0m\u001B[1;33m)\u001B[0m\u001B[1;33m\u001B[0m\u001B[1;33m\u001B[0m\u001B[0m\n\u001B[0;32m    388\u001B[0m     \u001B[1;32mif\u001B[0m \u001B[1;32mnot\u001B[0m \u001B[0mG\u001B[0m\u001B[1;33m.\u001B[0m\u001B[0mis_directed\u001B[0m\u001B[1;33m(\u001B[0m\u001B[1;33m)\u001B[0m \u001B[1;32mand\u001B[0m \u001B[1;32mnot\u001B[0m \u001B[0mnx\u001B[0m\u001B[1;33m.\u001B[0m\u001B[0mis_connected\u001B[0m\u001B[1;33m(\u001B[0m\u001B[0mG\u001B[0m\u001B[1;33m)\u001B[0m\u001B[1;33m:\u001B[0m\u001B[1;33m\u001B[0m\u001B[1;33m\u001B[0m\u001B[0m\n\u001B[1;32m--> 389\u001B[1;33m         \u001B[1;32mraise\u001B[0m \u001B[0mnx\u001B[0m\u001B[1;33m.\u001B[0m\u001B[0mNetworkXError\u001B[0m\u001B[1;33m(\u001B[0m\u001B[1;34m\"Graph is not connected.\"\u001B[0m\u001B[1;33m)\u001B[0m\u001B[1;33m\u001B[0m\u001B[1;33m\u001B[0m\u001B[0m\n\u001B[0m\u001B[0;32m    390\u001B[0m \u001B[1;33m\u001B[0m\u001B[0m\n\u001B[0;32m    391\u001B[0m     \u001B[1;31m# Compute all-pairs shortest paths.\u001B[0m\u001B[1;33m\u001B[0m\u001B[1;33m\u001B[0m\u001B[1;33m\u001B[0m\u001B[0m\n",
      "\u001B[1;31mNetworkXError\u001B[0m: Graph is not connected."
     ]
    }
   ],
   "source": [
    "nx.average_shortest_path_length(G)"
   ]
  },
  {
   "cell_type": "markdown",
   "metadata": {
    "pycharm": {
     "name": "#%% md\n"
    }
   },
   "source": [
    "#### Diameter\n",
    "Maximum possible distance between two nodes"
   ]
  },
  {
   "cell_type": "code",
   "execution_count": 34,
   "metadata": {
    "pycharm": {
     "name": "#%%\n"
    }
   },
   "outputs": [
    {
     "ename": "NetworkXError",
     "evalue": "Found infinite path length because the graph is not connected",
     "output_type": "error",
     "traceback": [
      "\u001B[1;31m---------------------------------------------------------------------------\u001B[0m",
      "\u001B[1;31mNetworkXError\u001B[0m                             Traceback (most recent call last)",
      "\u001B[1;32m<ipython-input-34-6332baa7b858>\u001B[0m in \u001B[0;36m<module>\u001B[1;34m\u001B[0m\n\u001B[1;32m----> 1\u001B[1;33m \u001B[0mnx\u001B[0m\u001B[1;33m.\u001B[0m\u001B[0mdiameter\u001B[0m\u001B[1;33m(\u001B[0m\u001B[0mG\u001B[0m\u001B[1;33m)\u001B[0m\u001B[1;33m\u001B[0m\u001B[1;33m\u001B[0m\u001B[0m\n\u001B[0m",
      "\u001B[1;32mC:\\ProgramData\\Anaconda3\\lib\\site-packages\\networkx\\algorithms\\distance_measures.py\u001B[0m in \u001B[0;36mdiameter\u001B[1;34m(G, e, usebounds)\u001B[0m\n\u001B[0;32m    297\u001B[0m         \u001B[1;32mreturn\u001B[0m \u001B[0mextrema_bounding\u001B[0m\u001B[1;33m(\u001B[0m\u001B[0mG\u001B[0m\u001B[1;33m,\u001B[0m \u001B[0mcompute\u001B[0m\u001B[1;33m=\u001B[0m\u001B[1;34m\"diameter\"\u001B[0m\u001B[1;33m)\u001B[0m\u001B[1;33m\u001B[0m\u001B[1;33m\u001B[0m\u001B[0m\n\u001B[0;32m    298\u001B[0m     \u001B[1;32mif\u001B[0m \u001B[0me\u001B[0m \u001B[1;32mis\u001B[0m \u001B[1;32mNone\u001B[0m\u001B[1;33m:\u001B[0m\u001B[1;33m\u001B[0m\u001B[1;33m\u001B[0m\u001B[0m\n\u001B[1;32m--> 299\u001B[1;33m         \u001B[0me\u001B[0m \u001B[1;33m=\u001B[0m \u001B[0meccentricity\u001B[0m\u001B[1;33m(\u001B[0m\u001B[0mG\u001B[0m\u001B[1;33m)\u001B[0m\u001B[1;33m\u001B[0m\u001B[1;33m\u001B[0m\u001B[0m\n\u001B[0m\u001B[0;32m    300\u001B[0m     \u001B[1;32mreturn\u001B[0m \u001B[0mmax\u001B[0m\u001B[1;33m(\u001B[0m\u001B[0me\u001B[0m\u001B[1;33m.\u001B[0m\u001B[0mvalues\u001B[0m\u001B[1;33m(\u001B[0m\u001B[1;33m)\u001B[0m\u001B[1;33m)\u001B[0m\u001B[1;33m\u001B[0m\u001B[1;33m\u001B[0m\u001B[0m\n\u001B[0;32m    301\u001B[0m \u001B[1;33m\u001B[0m\u001B[0m\n",
      "\u001B[1;32mC:\\ProgramData\\Anaconda3\\lib\\site-packages\\networkx\\algorithms\\distance_measures.py\u001B[0m in \u001B[0;36meccentricity\u001B[1;34m(G, v, sp)\u001B[0m\n\u001B[0;32m    262\u001B[0m             \u001B[1;32melse\u001B[0m\u001B[1;33m:\u001B[0m\u001B[1;33m\u001B[0m\u001B[1;33m\u001B[0m\u001B[0m\n\u001B[0;32m    263\u001B[0m                 \u001B[0mmsg\u001B[0m \u001B[1;33m=\u001B[0m \u001B[1;34m\"Found infinite path length because the graph is not\"\u001B[0m \u001B[1;34m\" connected\"\u001B[0m\u001B[1;33m\u001B[0m\u001B[1;33m\u001B[0m\u001B[0m\n\u001B[1;32m--> 264\u001B[1;33m             \u001B[1;32mraise\u001B[0m \u001B[0mnx\u001B[0m\u001B[1;33m.\u001B[0m\u001B[0mNetworkXError\u001B[0m\u001B[1;33m(\u001B[0m\u001B[0mmsg\u001B[0m\u001B[1;33m)\u001B[0m\u001B[1;33m\u001B[0m\u001B[1;33m\u001B[0m\u001B[0m\n\u001B[0m\u001B[0;32m    265\u001B[0m \u001B[1;33m\u001B[0m\u001B[0m\n\u001B[0;32m    266\u001B[0m         \u001B[0me\u001B[0m\u001B[1;33m[\u001B[0m\u001B[0mn\u001B[0m\u001B[1;33m]\u001B[0m \u001B[1;33m=\u001B[0m \u001B[0mmax\u001B[0m\u001B[1;33m(\u001B[0m\u001B[0mlength\u001B[0m\u001B[1;33m.\u001B[0m\u001B[0mvalues\u001B[0m\u001B[1;33m(\u001B[0m\u001B[1;33m)\u001B[0m\u001B[1;33m)\u001B[0m\u001B[1;33m\u001B[0m\u001B[1;33m\u001B[0m\u001B[0m\n",
      "\u001B[1;31mNetworkXError\u001B[0m: Found infinite path length because the graph is not connected"
     ]
    }
   ],
   "source": [
    "nx.diameter(G)"
   ]
  },
  {
   "cell_type": "markdown",
   "metadata": {
    "pycharm": {
     "name": "#%% md\n"
    }
   },
   "source": [
    "#### Degree Centrality\n",
    "Identifies the most importante nodes in a network\n",
    "\n",
    "Directed network: degree\n",
    "Undirected network: in-degree and/or out-degree\n",
    "Directed Network:\n",
    "\n",
    "Centrailty(node) = degree(v) / (|all nodes| - 1)\n",
    "\n",
    "0 <= Centrality <= 1"
   ]
  },
  {
   "cell_type": "code",
   "execution_count": 35,
   "metadata": {
    "pycharm": {
     "name": "#%%\n"
    }
   },
   "outputs": [
    {
     "data": {
      "text/plain": [
       "0.16666666666666666"
      ]
     },
     "execution_count": 35,
     "metadata": {},
     "output_type": "execute_result"
    }
   ],
   "source": [
    "nx.degree_centrality(G)[4]"
   ]
  },
  {
   "cell_type": "code",
   "execution_count": 36,
   "metadata": {
    "pycharm": {
     "name": "#%%\n"
    }
   },
   "outputs": [
    {
     "data": {
      "text/plain": [
       "{1: 0.20833333333333331,\n",
       " 2: 0.16666666666666666,\n",
       " 3: 0.125,\n",
       " 4: 0.16666666666666666,\n",
       " 5: 0.08333333333333333,\n",
       " 6: 0.16666666666666666,\n",
       " 7: 0.29166666666666663,\n",
       " 8: 0.29166666666666663,\n",
       " 9: 0.3333333333333333,\n",
       " 10: 0.3333333333333333,\n",
       " 11: 0.3333333333333333,\n",
       " 12: 0.3333333333333333,\n",
       " 13: 0.3333333333333333,\n",
       " 14: 0.16666666666666666,\n",
       " 15: 0.29166666666666663,\n",
       " 16: 0.29166666666666663,\n",
       " 17: 0.29166666666666663,\n",
       " 18: 0.08333333333333333,\n",
       " 19: 0.25,\n",
       " 20: 0.25,\n",
       " 21: 0.25,\n",
       " 22: 0.20833333333333331,\n",
       " 23: 0.20833333333333331,\n",
       " 24: 0.20833333333333331,\n",
       " 25: 0.08333333333333333}"
      ]
     },
     "execution_count": 36,
     "metadata": {},
     "output_type": "execute_result"
    }
   ],
   "source": [
    "nx.degree_centrality(G)"
   ]
  },
  {
   "cell_type": "markdown",
   "metadata": {
    "pycharm": {
     "name": "#%% md\n"
    }
   },
   "source": [
    "#### Closenesse Centrality\n",
    "Nodes that are important, will be close to other nodes"
   ]
  },
  {
   "cell_type": "code",
   "execution_count": 37,
   "metadata": {
    "pycharm": {
     "name": "#%%\n"
    }
   },
   "outputs": [],
   "source": [
    "cc = nx.closeness_centrality(G)"
   ]
  },
  {
   "cell_type": "code",
   "execution_count": 38,
   "metadata": {
    "pycharm": {
     "name": "#%%\n"
    }
   },
   "outputs": [
    {
     "data": {
      "text/plain": [
       "0.25"
      ]
     },
     "execution_count": 38,
     "metadata": {},
     "output_type": "execute_result"
    }
   ],
   "source": [
    "cc[10]"
   ]
  },
  {
   "cell_type": "code",
   "execution_count": 39,
   "metadata": {
    "pycharm": {
     "name": "#%%\n"
    }
   },
   "outputs": [
    {
     "data": {
      "text/plain": [
       "{1: 0.16666666666666666,\n",
       " 2: 0.1568627450980392,\n",
       " 3: 0.11594202898550723,\n",
       " 4: 0.19047619047619047,\n",
       " 5: 0.0,\n",
       " 6: 0.17777777777777776,\n",
       " 7: 0.2222222222222222,\n",
       " 8: 0.21428571428571427,\n",
       " 9: 0.25,\n",
       " 10: 0.25,\n",
       " 11: 0.25,\n",
       " 12: 0.25,\n",
       " 13: 0.25,\n",
       " 14: 0.13020833333333334,\n",
       " 15: 0.20833333333333334,\n",
       " 16: 0.20833333333333334,\n",
       " 17: 0.21428571428571427,\n",
       " 18: 0.0,\n",
       " 19: 0.17361111111111113,\n",
       " 20: 0.17361111111111113,\n",
       " 21: 0.17361111111111113,\n",
       " 22: 0.1568627450980392,\n",
       " 23: 0.1568627450980392,\n",
       " 24: 0.1568627450980392,\n",
       " 25: 0.0}"
      ]
     },
     "execution_count": 39,
     "metadata": {},
     "output_type": "execute_result"
    }
   ],
   "source": [
    "cc"
   ]
  },
  {
   "cell_type": "code",
   "execution_count": 40,
   "metadata": {
    "pycharm": {
     "name": "#%%\n"
    }
   },
   "outputs": [
    {
     "data": {
      "text/plain": [
       "{19: 0, 15: 1, 16: 1, 20: 1, 21: 1, 14: 2}"
      ]
     },
     "execution_count": 40,
     "metadata": {},
     "output_type": "execute_result"
    }
   ],
   "source": [
    "nx.shortest_path_length(G, 19)"
   ]
  },
  {
   "cell_type": "code",
   "execution_count": 41,
   "metadata": {
    "pycharm": {
     "name": "#%%\n"
    }
   },
   "outputs": [
    {
     "data": {
      "text/plain": [
       "6"
      ]
     },
     "execution_count": 41,
     "metadata": {},
     "output_type": "execute_result"
    }
   ],
   "source": [
    "sum(nx.shortest_path_length(G, 19).values())"
   ]
  },
  {
   "cell_type": "markdown",
   "metadata": {
    "pycharm": {
     "name": "#%% md\n"
    }
   },
   "source": [
    "#### Betweenness Centrality\n",
    "A node 'n' has high Betweenness Centrality if it appears a great number of times in the shortest paths between nodes 'u' and 'v'"
   ]
  },
  {
   "cell_type": "code",
   "execution_count": 42,
   "metadata": {
    "pycharm": {
     "name": "#%%\n"
    }
   },
   "outputs": [
    {
     "data": {
      "text/plain": [
       "{1: 0.028985507246376812,\n",
       " 2: 0.007246376811594203,\n",
       " 3: 0.0,\n",
       " 4: 0.028985507246376812,\n",
       " 5: 0.0,\n",
       " 6: 0.014492753623188406,\n",
       " 7: 0.057971014492753624,\n",
       " 8: 0.0,\n",
       " 9: 0.0007246376811594203,\n",
       " 10: 0.0007246376811594203,\n",
       " 11: 0.0007246376811594203,\n",
       " 12: 0.0007246376811594203,\n",
       " 13: 0.0007246376811594203,\n",
       " 14: 0.0,\n",
       " 15: 0.005434782608695652,\n",
       " 16: 0.005434782608695652,\n",
       " 17: 0.0,\n",
       " 18: 0.0,\n",
       " 19: 0.0,\n",
       " 20: 0.0,\n",
       " 21: 0.0,\n",
       " 22: 0.0,\n",
       " 23: 0.0,\n",
       " 24: 0.0,\n",
       " 25: 0.0}"
      ]
     },
     "execution_count": 42,
     "metadata": {},
     "output_type": "execute_result"
    }
   ],
   "source": [
    "bcc = nx.betweenness_centrality(G, endpoints=False)\n",
    "bcc"
   ]
  },
  {
   "cell_type": "code",
   "execution_count": 43,
   "metadata": {
    "pycharm": {
     "name": "#%%\n"
    }
   },
   "outputs": [],
   "source": [
    "def maxKeyVal(x: dict):\n",
    "    keys = list(x.keys())\n",
    "    values = list(x.values())\n",
    "    return keys[values.index(max(values))], max(list(x.values()))\n",
    "\n",
    "def minKeyVal(x: dict):\n",
    "    keys = list(x.keys())\n",
    "    values = list(x.values())\n",
    "    return keys[values.index(min(values))], min(list(x.values()))"
   ]
  },
  {
   "cell_type": "code",
   "execution_count": 44,
   "metadata": {
    "pycharm": {
     "name": "#%%\n"
    }
   },
   "outputs": [
    {
     "data": {
      "text/plain": [
       "((7, 0.057971014492753624), (3, 0.0))"
      ]
     },
     "execution_count": 44,
     "metadata": {},
     "output_type": "execute_result"
    }
   ],
   "source": [
    "maxKeyVal(bcc), minKeyVal(bcc)"
   ]
  },
  {
   "cell_type": "markdown",
   "metadata": {
    "pycharm": {
     "name": "#%% md\n"
    }
   },
   "source": [
    "#### Adjacency_matrix"
   ]
  },
  {
   "cell_type": "code",
   "execution_count": 45,
   "metadata": {
    "pycharm": {
     "name": "#%%\n"
    }
   },
   "outputs": [
    {
     "data": {
      "text/plain": [
       "matrix([[1.        , 0.36900077, 0.11961734, 0.42372566, 0.        ,\n",
       "         0.        , 0.        , 0.        , 0.        , 0.        ,\n",
       "         0.        , 0.        , 0.        , 0.        , 0.        ,\n",
       "         0.        , 0.        , 0.        , 0.        , 0.        ,\n",
       "         0.        , 0.        , 0.        , 0.        , 0.        ],\n",
       "        [0.36900077, 1.        , 0.        , 0.        , 0.        ,\n",
       "         0.40067344, 0.        , 0.        , 0.        , 0.        ,\n",
       "         0.        , 0.        , 0.        , 0.        , 0.        ,\n",
       "         0.        , 0.        , 0.        , 0.        , 0.        ,\n",
       "         0.        , 0.        , 0.        , 0.        , 0.        ],\n",
       "        [0.11961734, 0.        , 1.        , 0.        , 0.        ,\n",
       "         0.        , 0.        , 0.        , 0.        , 0.        ,\n",
       "         0.        , 0.        , 0.        , 0.        , 0.        ,\n",
       "         0.        , 0.        , 0.        , 0.        , 0.        ,\n",
       "         0.        , 0.        , 0.        , 0.        , 0.        ],\n",
       "        [0.42372566, 0.        , 0.        , 1.        , 0.        ,\n",
       "         0.        , 0.13488375, 0.        , 0.        , 0.        ,\n",
       "         0.        , 0.        , 0.        , 0.        , 0.        ,\n",
       "         0.        , 0.        , 0.        , 0.        , 0.        ,\n",
       "         0.        , 0.        , 0.        , 0.        , 0.        ],\n",
       "        [0.        , 0.        , 0.        , 0.        , 1.        ,\n",
       "         0.        , 0.        , 0.        , 0.        , 0.        ,\n",
       "         0.        , 0.        , 0.        , 0.        , 0.        ,\n",
       "         0.        , 0.        , 0.        , 0.        , 0.        ,\n",
       "         0.        , 0.        , 0.        , 0.        , 0.        ],\n",
       "        [0.        , 0.40067344, 0.        , 0.        , 0.        ,\n",
       "         1.        , 0.11488707, 0.        , 0.        , 0.        ,\n",
       "         0.        , 0.        , 0.        , 0.        , 0.        ,\n",
       "         0.        , 0.        , 0.        , 0.        , 0.        ,\n",
       "         0.        , 0.        , 0.        , 0.        , 0.        ],\n",
       "        [0.        , 0.        , 0.        , 0.13488375, 0.        ,\n",
       "         0.11488707, 1.        , 0.        , 0.        , 0.        ,\n",
       "         0.        , 0.        , 0.        , 0.        , 0.        ,\n",
       "         0.        , 0.        , 0.        , 0.        , 0.        ,\n",
       "         0.        , 0.20301583, 0.38378855, 0.432978  , 0.        ],\n",
       "        [0.        , 0.        , 0.        , 0.        , 0.        ,\n",
       "         0.        , 0.        , 1.        , 0.13222622, 0.14233383,\n",
       "         0.16852382, 0.16186521, 0.28818207, 0.        , 0.        ,\n",
       "         0.        , 0.        , 0.        , 0.        , 0.        ,\n",
       "         0.        , 0.        , 0.        , 0.        , 0.        ],\n",
       "        [0.        , 0.        , 0.        , 0.        , 0.        ,\n",
       "         0.        , 0.        , 0.13222622, 1.        , 0.7017659 ,\n",
       "         0.75879057, 0.75053043, 0.27753839, 0.        , 0.        ,\n",
       "         0.        , 0.13956176, 0.        , 0.        , 0.        ,\n",
       "         0.        , 0.        , 0.        , 0.        , 0.        ],\n",
       "        [0.        , 0.        , 0.        , 0.        , 0.        ,\n",
       "         0.        , 0.        , 0.14233383, 0.7017659 , 1.        ,\n",
       "         0.96226343, 0.94001941, 0.27740007, 0.        , 0.        ,\n",
       "         0.        , 0.17742635, 0.        , 0.        , 0.        ,\n",
       "         0.        , 0.        , 0.        , 0.        , 0.        ],\n",
       "        [0.        , 0.        , 0.        , 0.        , 0.        ,\n",
       "         0.        , 0.        , 0.16852382, 0.75879057, 0.96226343,\n",
       "         1.        , 0.98569895, 0.33317847, 0.        , 0.        ,\n",
       "         0.        , 0.17648513, 0.        , 0.        , 0.        ,\n",
       "         0.        , 0.        , 0.        , 0.        , 0.        ],\n",
       "        [0.        , 0.        , 0.        , 0.        , 0.        ,\n",
       "         0.        , 0.        , 0.16186521, 0.75053043, 0.94001941,\n",
       "         0.98569895, 1.        , 0.32051628, 0.        , 0.        ,\n",
       "         0.        , 0.16462585, 0.        , 0.        , 0.        ,\n",
       "         0.        , 0.        , 0.        , 0.        , 0.        ],\n",
       "        [0.        , 0.        , 0.        , 0.        , 0.        ,\n",
       "         0.        , 0.        , 0.28818207, 0.27753839, 0.27740007,\n",
       "         0.33317847, 0.32051628, 1.        , 0.        , 0.        ,\n",
       "         0.        , 0.12446805, 0.        , 0.        , 0.        ,\n",
       "         0.        , 0.        , 0.        , 0.        , 0.        ],\n",
       "        [0.        , 0.        , 0.        , 0.        , 0.        ,\n",
       "         0.        , 0.        , 0.        , 0.        , 0.        ,\n",
       "         0.        , 0.        , 0.        , 1.        , 0.12658937,\n",
       "         0.10276732, 0.        , 0.        , 0.        , 0.        ,\n",
       "         0.        , 0.        , 0.        , 0.        , 0.        ],\n",
       "        [0.        , 0.        , 0.        , 0.        , 0.        ,\n",
       "         0.        , 0.        , 0.        , 0.        , 0.        ,\n",
       "         0.        , 0.        , 0.        , 0.12658937, 1.        ,\n",
       "         0.85958693, 0.        , 0.        , 0.68537868, 0.12589778,\n",
       "         0.10564118, 0.        , 0.        , 0.        , 0.        ],\n",
       "        [0.        , 0.        , 0.        , 0.        , 0.        ,\n",
       "         0.        , 0.        , 0.        , 0.        , 0.        ,\n",
       "         0.        , 0.        , 0.        , 0.10276732, 0.85958693,\n",
       "         1.        , 0.        , 0.        , 0.83272157, 0.13123399,\n",
       "         0.11778009, 0.        , 0.        , 0.        , 0.        ],\n",
       "        [0.        , 0.        , 0.        , 0.        , 0.        ,\n",
       "         0.        , 0.        , 0.        , 0.13956176, 0.17742635,\n",
       "         0.17648513, 0.16462585, 0.12446805, 0.        , 0.        ,\n",
       "         0.        , 1.        , 0.        , 0.        , 0.        ,\n",
       "         0.        , 0.        , 0.        , 0.        , 0.        ],\n",
       "        [0.        , 0.        , 0.        , 0.        , 0.        ,\n",
       "         0.        , 0.        , 0.        , 0.        , 0.        ,\n",
       "         0.        , 0.        , 0.        , 0.        , 0.        ,\n",
       "         0.        , 0.        , 1.        , 0.        , 0.        ,\n",
       "         0.        , 0.        , 0.        , 0.        , 0.        ],\n",
       "        [0.        , 0.        , 0.        , 0.        , 0.        ,\n",
       "         0.        , 0.        , 0.        , 0.        , 0.        ,\n",
       "         0.        , 0.        , 0.        , 0.        , 0.68537868,\n",
       "         0.83272157, 0.        , 0.        , 1.        , 0.15445234,\n",
       "         0.14711155, 0.        , 0.        , 0.        , 0.        ],\n",
       "        [0.        , 0.        , 0.        , 0.        , 0.        ,\n",
       "         0.        , 0.        , 0.        , 0.        , 0.        ,\n",
       "         0.        , 0.        , 0.        , 0.        , 0.12589778,\n",
       "         0.13123399, 0.        , 0.        , 0.15445234, 1.        ,\n",
       "         0.97334847, 0.        , 0.        , 0.        , 0.        ],\n",
       "        [0.        , 0.        , 0.        , 0.        , 0.        ,\n",
       "         0.        , 0.        , 0.        , 0.        , 0.        ,\n",
       "         0.        , 0.        , 0.        , 0.        , 0.10564118,\n",
       "         0.11778009, 0.        , 0.        , 0.14711155, 0.97334847,\n",
       "         1.        , 0.        , 0.        , 0.        , 0.        ],\n",
       "        [0.        , 0.        , 0.        , 0.        , 0.        ,\n",
       "         0.        , 0.20301583, 0.        , 0.        , 0.        ,\n",
       "         0.        , 0.        , 0.        , 0.        , 0.        ,\n",
       "         0.        , 0.        , 0.        , 0.        , 0.        ,\n",
       "         0.        , 1.        , 0.19611782, 0.57178085, 0.        ],\n",
       "        [0.        , 0.        , 0.        , 0.        , 0.        ,\n",
       "         0.        , 0.38378855, 0.        , 0.        , 0.        ,\n",
       "         0.        , 0.        , 0.        , 0.        , 0.        ,\n",
       "         0.        , 0.        , 0.        , 0.        , 0.        ,\n",
       "         0.        , 0.19611782, 1.        , 0.67667132, 0.        ],\n",
       "        [0.        , 0.        , 0.        , 0.        , 0.        ,\n",
       "         0.        , 0.432978  , 0.        , 0.        , 0.        ,\n",
       "         0.        , 0.        , 0.        , 0.        , 0.        ,\n",
       "         0.        , 0.        , 0.        , 0.        , 0.        ,\n",
       "         0.        , 0.57178085, 0.67667132, 1.        , 0.        ],\n",
       "        [0.        , 0.        , 0.        , 0.        , 0.        ,\n",
       "         0.        , 0.        , 0.        , 0.        , 0.        ,\n",
       "         0.        , 0.        , 0.        , 0.        , 0.        ,\n",
       "         0.        , 0.        , 0.        , 0.        , 0.        ,\n",
       "         0.        , 0.        , 0.        , 0.        , 1.        ]])"
      ]
     },
     "execution_count": 45,
     "metadata": {},
     "output_type": "execute_result"
    }
   ],
   "source": [
    "nx.adjacency_matrix(G).todense()\n",
    "#todense()=all matrix entries are stored in a 2-dimensional array."
   ]
  },
  {
   "cell_type": "markdown",
   "metadata": {
    "pycharm": {
     "name": "#%% md\n"
    }
   },
   "source": [
    "#### Add and remove an edge or node"
   ]
  },
  {
   "cell_type": "code",
   "execution_count": 46,
   "metadata": {
    "pycharm": {
     "name": "#%%\n"
    }
   },
   "outputs": [
    {
     "data": {
      "image/png": "[encoded data removed]",
      "text/plain": [
       "<Figure size 432x288 with 1 Axes>"
      ]
     },
     "metadata": {},
     "output_type": "display_data"
    }
   ],
   "source": [
    "position_dict = nx.spring_layout(G)\n",
    "nx.draw(G, pos=position_dict, with_labels=True) "
   ]
  },
  {
   "cell_type": "code",
   "execution_count": 47,
   "metadata": {
    "pycharm": {
     "name": "#%%\n"
    }
   },
   "outputs": [],
   "source": [
    "G.add_edge(12, 5)"
   ]
  },
  {
   "cell_type": "code",
   "execution_count": 48,
   "metadata": {
    "pycharm": {
     "name": "#%%\n"
    }
   },
   "outputs": [],
   "source": [
    "#G.remove_edge(21, 33)"
   ]
  },
  {
   "cell_type": "code",
   "execution_count": 49,
   "metadata": {
    "pycharm": {
     "name": "#%%\n"
    }
   },
   "outputs": [],
   "source": [
    "#G.remove_node(1)"
   ]
  },
  {
   "cell_type": "code",
   "execution_count": 50,
   "metadata": {
    "pycharm": {
     "name": "#%%\n"
    }
   },
   "outputs": [
    {
     "data": {
      "image/png": "[encoded data removed]",
      "text/plain": [
       "<Figure size 432x288 with 1 Axes>"
      ]
     },
     "metadata": {},
     "output_type": "display_data"
    }
   ],
   "source": [
    "nx.draw(G, pos=position_dict, with_labels=True) "
   ]
  },
  {
   "cell_type": "code",
   "execution_count": 51,
   "metadata": {
    "pycharm": {
     "name": "#%%\n"
    }
   },
   "outputs": [
    {
     "data": {
      "text/plain": [
       "False"
      ]
     },
     "execution_count": 51,
     "metadata": {},
     "output_type": "execute_result"
    }
   ],
   "source": [
    "nx.is_connected(G)"
   ]
  },
  {
   "cell_type": "markdown",
   "metadata": {
    "pycharm": {
     "name": "#%% md\n"
    }
   },
   "source": [
    "#### Degree Distribution\n",
    "The degree distribution, P(k) of a network is the number of nodes of degree k, divided by the total number of nodes, i.e.:\n",
    "\n",
    "P(k) = (# nodes with k-degree) / len(g.nodes())"
   ]
  },
  {
   "cell_type": "code",
   "execution_count": 52,
   "metadata": {
    "pycharm": {
     "name": "#%%\n"
    }
   },
   "outputs": [
    {
     "data": {
      "text/plain": [
       "DegreeView({1: 5, 2: 4, 3: 3, 4: 4, 5: 3, 6: 4, 7: 7, 8: 7, 9: 8, 10: 8, 11: 8, 12: 9, 13: 8, 14: 4, 15: 7, 16: 7, 17: 7, 18: 2, 19: 6, 20: 6, 21: 6, 22: 5, 23: 5, 24: 5, 25: 2})"
      ]
     },
     "execution_count": 52,
     "metadata": {},
     "output_type": "execute_result"
    }
   ],
   "source": [
    "G.degree()"
   ]
  },
  {
   "cell_type": "code",
   "execution_count": 53,
   "metadata": {
    "pycharm": {
     "name": "#%%\n"
    }
   },
   "outputs": [
    {
     "data": {
      "text/html": [
       "<div>\n",
       "<style scoped>\n",
       "    .dataframe tbody tr th:only-of-type {\n",
       "        vertical-align: middle;\n",
       "    }\n",
       "\n",
       "    .dataframe tbody tr th {\n",
       "        vertical-align: top;\n",
       "    }\n",
       "\n",
       "    .dataframe thead th {\n",
       "        text-align: right;\n",
       "    }\n",
       "</style>\n",
       "<table border=\"1\" class=\"dataframe\">\n",
       "  <thead>\n",
       "    <tr style=\"text-align: right;\">\n",
       "      <th></th>\n",
       "      <th>Nodes</th>\n",
       "      <th>Degrees</th>\n",
       "    </tr>\n",
       "  </thead>\n",
       "  <tbody>\n",
       "    <tr>\n",
       "      <th>0</th>\n",
       "      <td>1</td>\n",
       "      <td>5</td>\n",
       "    </tr>\n",
       "    <tr>\n",
       "      <th>1</th>\n",
       "      <td>2</td>\n",
       "      <td>4</td>\n",
       "    </tr>\n",
       "    <tr>\n",
       "      <th>2</th>\n",
       "      <td>3</td>\n",
       "      <td>3</td>\n",
       "    </tr>\n",
       "    <tr>\n",
       "      <th>3</th>\n",
       "      <td>4</td>\n",
       "      <td>4</td>\n",
       "    </tr>\n",
       "    <tr>\n",
       "      <th>4</th>\n",
       "      <td>5</td>\n",
       "      <td>3</td>\n",
       "    </tr>\n",
       "    <tr>\n",
       "      <th>5</th>\n",
       "      <td>6</td>\n",
       "      <td>4</td>\n",
       "    </tr>\n",
       "    <tr>\n",
       "      <th>6</th>\n",
       "      <td>7</td>\n",
       "      <td>7</td>\n",
       "    </tr>\n",
       "    <tr>\n",
       "      <th>7</th>\n",
       "      <td>8</td>\n",
       "      <td>7</td>\n",
       "    </tr>\n",
       "    <tr>\n",
       "      <th>8</th>\n",
       "      <td>9</td>\n",
       "      <td>8</td>\n",
       "    </tr>\n",
       "    <tr>\n",
       "      <th>9</th>\n",
       "      <td>10</td>\n",
       "      <td>8</td>\n",
       "    </tr>\n",
       "  </tbody>\n",
       "</table>\n",
       "</div>"
      ],
      "text/plain": [
       "   Nodes  Degrees\n",
       "0      1        5\n",
       "1      2        4\n",
       "2      3        3\n",
       "3      4        4\n",
       "4      5        3\n",
       "5      6        4\n",
       "6      7        7\n",
       "7      8        7\n",
       "8      9        8\n",
       "9     10        8"
      ]
     },
     "execution_count": 53,
     "metadata": {},
     "output_type": "execute_result"
    }
   ],
   "source": [
    "# store degree sequences of a graph list in a pandas data frame\n",
    "df_degree = pd.DataFrame({\"Nodes\": dict(G.degree()).keys(), \"Degrees\": dict(G.degree()).values()})\n",
    "\n",
    "df_degree.head(10)"
   ]
  },
  {
   "cell_type": "code",
   "execution_count": 54,
   "metadata": {
    "pycharm": {
     "name": "#%%\n"
    }
   },
   "outputs": [
    {
     "data": {
      "image/png": "[encoded data removed]",
      "text/plain": [
       "<Figure size 864x576 with 1 Axes>"
      ]
     },
     "metadata": {},
     "output_type": "display_data"
    }
   ],
   "source": [
    "plt.figure(figsize=(12, 8))\n",
    "\n",
    "sns.histplot(data=df_degree,  bins=15, kde=True)\n",
    "#kernel density estimate (KDE) on the histogram,\n",
    "#which is a smooth estimate of the probability density function underlying the histogram.\n",
    "plt.xlabel('Degree')\n",
    "# plt.legend()\n",
    "suptitle = plt.suptitle('Degree Distribution Histogram',fontweight =\"bold\")\n",
    "plt.show()"
   ]
  },
  {
   "cell_type": "markdown",
   "metadata": {
    "pycharm": {
     "name": "#%% md\n"
    }
   },
   "source": [
    "### All together"
   ]
  },
  {
   "cell_type": "code",
   "execution_count": 55,
   "metadata": {
    "pycharm": {
     "name": "#%%\n"
    }
   },
   "outputs": [
    {
     "data": {
      "text/html": [
       "<div>\n",
       "<style scoped>\n",
       "    .dataframe tbody tr th:only-of-type {\n",
       "        vertical-align: middle;\n",
       "    }\n",
       "\n",
       "    .dataframe tbody tr th {\n",
       "        vertical-align: top;\n",
       "    }\n",
       "\n",
       "    .dataframe thead th {\n",
       "        text-align: right;\n",
       "    }\n",
       "</style>\n",
       "<table border=\"1\" class=\"dataframe\">\n",
       "  <thead>\n",
       "    <tr style=\"text-align: right;\">\n",
       "      <th></th>\n",
       "      <th>Degree Centrality</th>\n",
       "      <th>Betweenness Centrality</th>\n",
       "      <th>Closeness Centrality</th>\n",
       "      <th>Degree</th>\n",
       "      <th>Global clustering coefficient</th>\n",
       "    </tr>\n",
       "  </thead>\n",
       "  <tbody>\n",
       "    <tr>\n",
       "      <th>0</th>\n",
       "      <td>0.208333</td>\n",
       "      <td>0.028986</td>\n",
       "      <td>0.166667</td>\n",
       "      <td>5</td>\n",
       "      <td>0.604</td>\n",
       "    </tr>\n",
       "    <tr>\n",
       "      <th>1</th>\n",
       "      <td>0.166667</td>\n",
       "      <td>0.007246</td>\n",
       "      <td>0.156863</td>\n",
       "      <td>4</td>\n",
       "      <td>0.604</td>\n",
       "    </tr>\n",
       "    <tr>\n",
       "      <th>2</th>\n",
       "      <td>0.125000</td>\n",
       "      <td>0.000000</td>\n",
       "      <td>0.115942</td>\n",
       "      <td>3</td>\n",
       "      <td>0.604</td>\n",
       "    </tr>\n",
       "    <tr>\n",
       "      <th>3</th>\n",
       "      <td>0.166667</td>\n",
       "      <td>0.028986</td>\n",
       "      <td>0.190476</td>\n",
       "      <td>4</td>\n",
       "      <td>0.604</td>\n",
       "    </tr>\n",
       "    <tr>\n",
       "      <th>4</th>\n",
       "      <td>0.125000</td>\n",
       "      <td>0.000000</td>\n",
       "      <td>0.157051</td>\n",
       "      <td>3</td>\n",
       "      <td>0.604</td>\n",
       "    </tr>\n",
       "    <tr>\n",
       "      <th>5</th>\n",
       "      <td>0.166667</td>\n",
       "      <td>0.014493</td>\n",
       "      <td>0.177778</td>\n",
       "      <td>4</td>\n",
       "      <td>0.604</td>\n",
       "    </tr>\n",
       "    <tr>\n",
       "      <th>6</th>\n",
       "      <td>0.291667</td>\n",
       "      <td>0.057971</td>\n",
       "      <td>0.222222</td>\n",
       "      <td>7</td>\n",
       "      <td>0.604</td>\n",
       "    </tr>\n",
       "    <tr>\n",
       "      <th>7</th>\n",
       "      <td>0.291667</td>\n",
       "      <td>0.000000</td>\n",
       "      <td>0.226852</td>\n",
       "      <td>7</td>\n",
       "      <td>0.604</td>\n",
       "    </tr>\n",
       "    <tr>\n",
       "      <th>8</th>\n",
       "      <td>0.333333</td>\n",
       "      <td>0.000725</td>\n",
       "      <td>0.255208</td>\n",
       "      <td>8</td>\n",
       "      <td>0.604</td>\n",
       "    </tr>\n",
       "    <tr>\n",
       "      <th>9</th>\n",
       "      <td>0.333333</td>\n",
       "      <td>0.000725</td>\n",
       "      <td>0.255208</td>\n",
       "      <td>8</td>\n",
       "      <td>0.604</td>\n",
       "    </tr>\n",
       "    <tr>\n",
       "      <th>10</th>\n",
       "      <td>0.333333</td>\n",
       "      <td>0.000725</td>\n",
       "      <td>0.255208</td>\n",
       "      <td>8</td>\n",
       "      <td>0.604</td>\n",
       "    </tr>\n",
       "    <tr>\n",
       "      <th>11</th>\n",
       "      <td>0.375000</td>\n",
       "      <td>0.022464</td>\n",
       "      <td>0.291667</td>\n",
       "      <td>9</td>\n",
       "      <td>0.604</td>\n",
       "    </tr>\n",
       "    <tr>\n",
       "      <th>12</th>\n",
       "      <td>0.333333</td>\n",
       "      <td>0.000725</td>\n",
       "      <td>0.255208</td>\n",
       "      <td>8</td>\n",
       "      <td>0.604</td>\n",
       "    </tr>\n",
       "    <tr>\n",
       "      <th>13</th>\n",
       "      <td>0.166667</td>\n",
       "      <td>0.000000</td>\n",
       "      <td>0.130208</td>\n",
       "      <td>4</td>\n",
       "      <td>0.604</td>\n",
       "    </tr>\n",
       "    <tr>\n",
       "      <th>14</th>\n",
       "      <td>0.291667</td>\n",
       "      <td>0.005435</td>\n",
       "      <td>0.208333</td>\n",
       "      <td>7</td>\n",
       "      <td>0.604</td>\n",
       "    </tr>\n",
       "    <tr>\n",
       "      <th>15</th>\n",
       "      <td>0.291667</td>\n",
       "      <td>0.005435</td>\n",
       "      <td>0.208333</td>\n",
       "      <td>7</td>\n",
       "      <td>0.604</td>\n",
       "    </tr>\n",
       "    <tr>\n",
       "      <th>16</th>\n",
       "      <td>0.291667</td>\n",
       "      <td>0.000000</td>\n",
       "      <td>0.226852</td>\n",
       "      <td>7</td>\n",
       "      <td>0.604</td>\n",
       "    </tr>\n",
       "    <tr>\n",
       "      <th>17</th>\n",
       "      <td>0.083333</td>\n",
       "      <td>0.000000</td>\n",
       "      <td>0.000000</td>\n",
       "      <td>2</td>\n",
       "      <td>0.604</td>\n",
       "    </tr>\n",
       "    <tr>\n",
       "      <th>18</th>\n",
       "      <td>0.250000</td>\n",
       "      <td>0.000000</td>\n",
       "      <td>0.173611</td>\n",
       "      <td>6</td>\n",
       "      <td>0.604</td>\n",
       "    </tr>\n",
       "    <tr>\n",
       "      <th>19</th>\n",
       "      <td>0.250000</td>\n",
       "      <td>0.000000</td>\n",
       "      <td>0.173611</td>\n",
       "      <td>6</td>\n",
       "      <td>0.604</td>\n",
       "    </tr>\n",
       "    <tr>\n",
       "      <th>20</th>\n",
       "      <td>0.250000</td>\n",
       "      <td>0.000000</td>\n",
       "      <td>0.173611</td>\n",
       "      <td>6</td>\n",
       "      <td>0.604</td>\n",
       "    </tr>\n",
       "    <tr>\n",
       "      <th>21</th>\n",
       "      <td>0.208333</td>\n",
       "      <td>0.000000</td>\n",
       "      <td>0.156863</td>\n",
       "      <td>5</td>\n",
       "      <td>0.604</td>\n",
       "    </tr>\n",
       "    <tr>\n",
       "      <th>22</th>\n",
       "      <td>0.208333</td>\n",
       "      <td>0.000000</td>\n",
       "      <td>0.156863</td>\n",
       "      <td>5</td>\n",
       "      <td>0.604</td>\n",
       "    </tr>\n",
       "    <tr>\n",
       "      <th>23</th>\n",
       "      <td>0.208333</td>\n",
       "      <td>0.000000</td>\n",
       "      <td>0.156863</td>\n",
       "      <td>5</td>\n",
       "      <td>0.604</td>\n",
       "    </tr>\n",
       "    <tr>\n",
       "      <th>24</th>\n",
       "      <td>0.083333</td>\n",
       "      <td>0.000000</td>\n",
       "      <td>0.000000</td>\n",
       "      <td>2</td>\n",
       "      <td>0.604</td>\n",
       "    </tr>\n",
       "  </tbody>\n",
       "</table>\n",
       "</div>"
      ],
      "text/plain": [
       "    Degree Centrality  Betweenness Centrality  Closeness Centrality  Degree  \\\n",
       "0            0.208333                0.028986              0.166667       5   \n",
       "1            0.166667                0.007246              0.156863       4   \n",
       "2            0.125000                0.000000              0.115942       3   \n",
       "3            0.166667                0.028986              0.190476       4   \n",
       "4            0.125000                0.000000              0.157051       3   \n",
       "5            0.166667                0.014493              0.177778       4   \n",
       "6            0.291667                0.057971              0.222222       7   \n",
       "7            0.291667                0.000000              0.226852       7   \n",
       "8            0.333333                0.000725              0.255208       8   \n",
       "9            0.333333                0.000725              0.255208       8   \n",
       "10           0.333333                0.000725              0.255208       8   \n",
       "11           0.375000                0.022464              0.291667       9   \n",
       "12           0.333333                0.000725              0.255208       8   \n",
       "13           0.166667                0.000000              0.130208       4   \n",
       "14           0.291667                0.005435              0.208333       7   \n",
       "15           0.291667                0.005435              0.208333       7   \n",
       "16           0.291667                0.000000              0.226852       7   \n",
       "17           0.083333                0.000000              0.000000       2   \n",
       "18           0.250000                0.000000              0.173611       6   \n",
       "19           0.250000                0.000000              0.173611       6   \n",
       "20           0.250000                0.000000              0.173611       6   \n",
       "21           0.208333                0.000000              0.156863       5   \n",
       "22           0.208333                0.000000              0.156863       5   \n",
       "23           0.208333                0.000000              0.156863       5   \n",
       "24           0.083333                0.000000              0.000000       2   \n",
       "\n",
       "    Global clustering coefficient  \n",
       "0                           0.604  \n",
       "1                           0.604  \n",
       "2                           0.604  \n",
       "3                           0.604  \n",
       "4                           0.604  \n",
       "5                           0.604  \n",
       "6                           0.604  \n",
       "7                           0.604  \n",
       "8                           0.604  \n",
       "9                           0.604  \n",
       "10                          0.604  \n",
       "11                          0.604  \n",
       "12                          0.604  \n",
       "13                          0.604  \n",
       "14                          0.604  \n",
       "15                          0.604  \n",
       "16                          0.604  \n",
       "17                          0.604  \n",
       "18                          0.604  \n",
       "19                          0.604  \n",
       "20                          0.604  \n",
       "21                          0.604  \n",
       "22                          0.604  \n",
       "23                          0.604  \n",
       "24                          0.604  "
      ]
     },
     "execution_count": 55,
     "metadata": {},
     "output_type": "execute_result"
    }
   ],
   "source": [
    "# Create a dictionary to store the  measurements for each node\n",
    "measurements = {\n",
    "    'Degree Centrality': nx.degree_centrality(G).values(),\n",
    "    'Betweenness Centrality': nx.betweenness_centrality(G).values(),\n",
    "    'Closeness Centrality': nx.closeness_centrality(G).values(),\n",
    "    'Degree': [degree for node, degree in G.degree()],\n",
    "    'Global clustering coefficient': nx.average_clustering(G),\n",
    "}\n",
    "# 'Eigenvector Centrality': nx.eigenvector_centrality(G).values(),\n",
    "# Convert the dictionary to a pandas dataframe\n",
    "dfd = pd.DataFrame(measurements)\n",
    "\n",
    "# Display the table\n",
    "dfd"
   ]
  },
  {
   "cell_type": "code",
   "execution_count": 56,
   "metadata": {
    "pycharm": {
     "name": "#%%\n"
    }
   },
   "outputs": [
    {
     "data": {
      "text/plain": [
       "0.6040000000000001"
      ]
     },
     "execution_count": 56,
     "metadata": {},
     "output_type": "execute_result"
    }
   ],
   "source": [
    "nx.average_clustering(G)"
   ]
  },
  {
   "cell_type": "markdown",
   "metadata": {
    "pycharm": {
     "name": "#%% md\n"
    }
   },
   "source": [
    "Manual"
   ]
  },
  {
   "cell_type": "code",
   "execution_count": 57,
   "metadata": {
    "pycharm": {
     "name": "#%%\n"
    }
   },
   "outputs": [
    {
     "data": {
      "text/html": [
       "<div>\n",
       "<style scoped>\n",
       "    .dataframe tbody tr th:only-of-type {\n",
       "        vertical-align: middle;\n",
       "    }\n",
       "\n",
       "    .dataframe tbody tr th {\n",
       "        vertical-align: top;\n",
       "    }\n",
       "\n",
       "    .dataframe thead th {\n",
       "        text-align: right;\n",
       "    }\n",
       "</style>\n",
       "<table border=\"1\" class=\"dataframe\">\n",
       "  <thead>\n",
       "    <tr style=\"text-align: right;\">\n",
       "      <th></th>\n",
       "      <th>ID</th>\n",
       "      <th>resident_status</th>\n",
       "      <th>education_2003_revision</th>\n",
       "      <th>education_reporting_flag</th>\n",
       "      <th>month_of_death</th>\n",
       "      <th>sex</th>\n",
       "      <th>detail_age_type</th>\n",
       "      <th>detail_age</th>\n",
       "      <th>age_recode_52</th>\n",
       "      <th>age_recode_27</th>\n",
       "      <th>...</th>\n",
       "      <th>39_cause_recode</th>\n",
       "      <th>number_of_entity_axis_conditions</th>\n",
       "      <th>entity_condition_1</th>\n",
       "      <th>number_of_record_axis_conditions</th>\n",
       "      <th>record_condition_1</th>\n",
       "      <th>race</th>\n",
       "      <th>race_recode_3</th>\n",
       "      <th>race_recode_5</th>\n",
       "      <th>hispanic_origin</th>\n",
       "      <th>hispanic_originrace_recode</th>\n",
       "    </tr>\n",
       "  </thead>\n",
       "  <tbody>\n",
       "    <tr>\n",
       "      <th>0</th>\n",
       "      <td>1</td>\n",
       "      <td>1</td>\n",
       "      <td>3.0</td>\n",
       "      <td>1</td>\n",
       "      <td>1</td>\n",
       "      <td>1</td>\n",
       "      <td>1</td>\n",
       "      <td>84</td>\n",
       "      <td>42</td>\n",
       "      <td>22</td>\n",
       "      <td>...</td>\n",
       "      <td>22</td>\n",
       "      <td>2</td>\n",
       "      <td>11I500</td>\n",
       "      <td>2</td>\n",
       "      <td>I500</td>\n",
       "      <td>1</td>\n",
       "      <td>1</td>\n",
       "      <td>1</td>\n",
       "      <td>100</td>\n",
       "      <td>6</td>\n",
       "    </tr>\n",
       "    <tr>\n",
       "      <th>1</th>\n",
       "      <td>2</td>\n",
       "      <td>1</td>\n",
       "      <td>6.0</td>\n",
       "      <td>1</td>\n",
       "      <td>1</td>\n",
       "      <td>1</td>\n",
       "      <td>1</td>\n",
       "      <td>70</td>\n",
       "      <td>40</td>\n",
       "      <td>20</td>\n",
       "      <td>...</td>\n",
       "      <td>8</td>\n",
       "      <td>8</td>\n",
       "      <td>11I469</td>\n",
       "      <td>7</td>\n",
       "      <td>C349</td>\n",
       "      <td>1</td>\n",
       "      <td>1</td>\n",
       "      <td>1</td>\n",
       "      <td>100</td>\n",
       "      <td>6</td>\n",
       "    </tr>\n",
       "    <tr>\n",
       "      <th>2</th>\n",
       "      <td>3</td>\n",
       "      <td>1</td>\n",
       "      <td>3.0</td>\n",
       "      <td>1</td>\n",
       "      <td>1</td>\n",
       "      <td>2</td>\n",
       "      <td>1</td>\n",
       "      <td>91</td>\n",
       "      <td>44</td>\n",
       "      <td>24</td>\n",
       "      <td>...</td>\n",
       "      <td>17</td>\n",
       "      <td>1</td>\n",
       "      <td>11G309</td>\n",
       "      <td>1</td>\n",
       "      <td>G309</td>\n",
       "      <td>1</td>\n",
       "      <td>1</td>\n",
       "      <td>1</td>\n",
       "      <td>100</td>\n",
       "      <td>6</td>\n",
       "    </tr>\n",
       "    <tr>\n",
       "      <th>3</th>\n",
       "      <td>4</td>\n",
       "      <td>1</td>\n",
       "      <td>3.0</td>\n",
       "      <td>1</td>\n",
       "      <td>1</td>\n",
       "      <td>2</td>\n",
       "      <td>1</td>\n",
       "      <td>40</td>\n",
       "      <td>34</td>\n",
       "      <td>14</td>\n",
       "      <td>...</td>\n",
       "      <td>41</td>\n",
       "      <td>6</td>\n",
       "      <td>11T71</td>\n",
       "      <td>5</td>\n",
       "      <td>X91</td>\n",
       "      <td>3</td>\n",
       "      <td>2</td>\n",
       "      <td>3</td>\n",
       "      <td>100</td>\n",
       "      <td>8</td>\n",
       "    </tr>\n",
       "    <tr>\n",
       "      <th>4</th>\n",
       "      <td>5</td>\n",
       "      <td>1</td>\n",
       "      <td>5.0</td>\n",
       "      <td>1</td>\n",
       "      <td>1</td>\n",
       "      <td>2</td>\n",
       "      <td>1</td>\n",
       "      <td>89</td>\n",
       "      <td>43</td>\n",
       "      <td>23</td>\n",
       "      <td>...</td>\n",
       "      <td>21</td>\n",
       "      <td>3</td>\n",
       "      <td>11I250</td>\n",
       "      <td>3</td>\n",
       "      <td>I250</td>\n",
       "      <td>1</td>\n",
       "      <td>1</td>\n",
       "      <td>1</td>\n",
       "      <td>100</td>\n",
       "      <td>6</td>\n",
       "    </tr>\n",
       "    <tr>\n",
       "      <th>...</th>\n",
       "      <td>...</td>\n",
       "      <td>...</td>\n",
       "      <td>...</td>\n",
       "      <td>...</td>\n",
       "      <td>...</td>\n",
       "      <td>...</td>\n",
       "      <td>...</td>\n",
       "      <td>...</td>\n",
       "      <td>...</td>\n",
       "      <td>...</td>\n",
       "      <td>...</td>\n",
       "      <td>...</td>\n",
       "      <td>...</td>\n",
       "      <td>...</td>\n",
       "      <td>...</td>\n",
       "      <td>...</td>\n",
       "      <td>...</td>\n",
       "      <td>...</td>\n",
       "      <td>...</td>\n",
       "      <td>...</td>\n",
       "      <td>...</td>\n",
       "    </tr>\n",
       "    <tr>\n",
       "      <th>1048570</th>\n",
       "      <td>1048571</td>\n",
       "      <td>1</td>\n",
       "      <td>5.0</td>\n",
       "      <td>1</td>\n",
       "      <td>12</td>\n",
       "      <td>1</td>\n",
       "      <td>1</td>\n",
       "      <td>75</td>\n",
       "      <td>41</td>\n",
       "      <td>21</td>\n",
       "      <td>...</td>\n",
       "      <td>6</td>\n",
       "      <td>1</td>\n",
       "      <td>11C189</td>\n",
       "      <td>1</td>\n",
       "      <td>C189</td>\n",
       "      <td>1</td>\n",
       "      <td>1</td>\n",
       "      <td>1</td>\n",
       "      <td>100</td>\n",
       "      <td>6</td>\n",
       "    </tr>\n",
       "    <tr>\n",
       "      <th>1048571</th>\n",
       "      <td>1048572</td>\n",
       "      <td>1</td>\n",
       "      <td>3.0</td>\n",
       "      <td>1</td>\n",
       "      <td>11</td>\n",
       "      <td>2</td>\n",
       "      <td>1</td>\n",
       "      <td>62</td>\n",
       "      <td>38</td>\n",
       "      <td>18</td>\n",
       "      <td>...</td>\n",
       "      <td>5</td>\n",
       "      <td>1</td>\n",
       "      <td>11C169</td>\n",
       "      <td>1</td>\n",
       "      <td>C169</td>\n",
       "      <td>2</td>\n",
       "      <td>3</td>\n",
       "      <td>2</td>\n",
       "      <td>100</td>\n",
       "      <td>7</td>\n",
       "    </tr>\n",
       "    <tr>\n",
       "      <th>1048572</th>\n",
       "      <td>1048573</td>\n",
       "      <td>1</td>\n",
       "      <td>1.0</td>\n",
       "      <td>1</td>\n",
       "      <td>12</td>\n",
       "      <td>2</td>\n",
       "      <td>1</td>\n",
       "      <td>95</td>\n",
       "      <td>45</td>\n",
       "      <td>25</td>\n",
       "      <td>...</td>\n",
       "      <td>31</td>\n",
       "      <td>4</td>\n",
       "      <td>11R092</td>\n",
       "      <td>3</td>\n",
       "      <td>N185</td>\n",
       "      <td>1</td>\n",
       "      <td>1</td>\n",
       "      <td>1</td>\n",
       "      <td>100</td>\n",
       "      <td>6</td>\n",
       "    </tr>\n",
       "    <tr>\n",
       "      <th>1048573</th>\n",
       "      <td>1048574</td>\n",
       "      <td>1</td>\n",
       "      <td>1.0</td>\n",
       "      <td>1</td>\n",
       "      <td>12</td>\n",
       "      <td>1</td>\n",
       "      <td>1</td>\n",
       "      <td>86</td>\n",
       "      <td>43</td>\n",
       "      <td>23</td>\n",
       "      <td>...</td>\n",
       "      <td>22</td>\n",
       "      <td>4</td>\n",
       "      <td>11I469</td>\n",
       "      <td>4</td>\n",
       "      <td>I500</td>\n",
       "      <td>1</td>\n",
       "      <td>1</td>\n",
       "      <td>1</td>\n",
       "      <td>100</td>\n",
       "      <td>6</td>\n",
       "    </tr>\n",
       "    <tr>\n",
       "      <th>1048574</th>\n",
       "      <td>1048575</td>\n",
       "      <td>1</td>\n",
       "      <td>3.0</td>\n",
       "      <td>1</td>\n",
       "      <td>12</td>\n",
       "      <td>2</td>\n",
       "      <td>1</td>\n",
       "      <td>88</td>\n",
       "      <td>43</td>\n",
       "      <td>23</td>\n",
       "      <td>...</td>\n",
       "      <td>21</td>\n",
       "      <td>2</td>\n",
       "      <td>11I251</td>\n",
       "      <td>2</td>\n",
       "      <td>I251</td>\n",
       "      <td>1</td>\n",
       "      <td>1</td>\n",
       "      <td>1</td>\n",
       "      <td>100</td>\n",
       "      <td>6</td>\n",
       "    </tr>\n",
       "  </tbody>\n",
       "</table>\n",
       "<p>1048575 rows × 32 columns</p>\n",
       "</div>"
      ],
      "text/plain": [
       "              ID  resident_status  education_2003_revision  \\\n",
       "0              1                1                      3.0   \n",
       "1              2                1                      6.0   \n",
       "2              3                1                      3.0   \n",
       "3              4                1                      3.0   \n",
       "4              5                1                      5.0   \n",
       "...          ...              ...                      ...   \n",
       "1048570  1048571                1                      5.0   \n",
       "1048571  1048572                1                      3.0   \n",
       "1048572  1048573                1                      1.0   \n",
       "1048573  1048574                1                      1.0   \n",
       "1048574  1048575                1                      3.0   \n",
       "\n",
       "         education_reporting_flag  month_of_death  sex  detail_age_type  \\\n",
       "0                               1               1    1                1   \n",
       "1                               1               1    1                1   \n",
       "2                               1               1    2                1   \n",
       "3                               1               1    2                1   \n",
       "4                               1               1    2                1   \n",
       "...                           ...             ...  ...              ...   \n",
       "1048570                         1              12    1                1   \n",
       "1048571                         1              11    2                1   \n",
       "1048572                         1              12    2                1   \n",
       "1048573                         1              12    1                1   \n",
       "1048574                         1              12    2                1   \n",
       "\n",
       "         detail_age  age_recode_52  age_recode_27  ...  39_cause_recode  \\\n",
       "0                84             42             22  ...               22   \n",
       "1                70             40             20  ...                8   \n",
       "2                91             44             24  ...               17   \n",
       "3                40             34             14  ...               41   \n",
       "4                89             43             23  ...               21   \n",
       "...             ...            ...            ...  ...              ...   \n",
       "1048570          75             41             21  ...                6   \n",
       "1048571          62             38             18  ...                5   \n",
       "1048572          95             45             25  ...               31   \n",
       "1048573          86             43             23  ...               22   \n",
       "1048574          88             43             23  ...               21   \n",
       "\n",
       "         number_of_entity_axis_conditions  entity_condition_1  \\\n",
       "0                                       2              11I500   \n",
       "1                                       8              11I469   \n",
       "2                                       1              11G309   \n",
       "3                                       6               11T71   \n",
       "4                                       3              11I250   \n",
       "...                                   ...                 ...   \n",
       "1048570                                 1              11C189   \n",
       "1048571                                 1              11C169   \n",
       "1048572                                 4              11R092   \n",
       "1048573                                 4              11I469   \n",
       "1048574                                 2              11I251   \n",
       "\n",
       "         number_of_record_axis_conditions  record_condition_1 race  \\\n",
       "0                                       2                I500    1   \n",
       "1                                       7                C349    1   \n",
       "2                                       1                G309    1   \n",
       "3                                       5                 X91    3   \n",
       "4                                       3                I250    1   \n",
       "...                                   ...                 ...  ...   \n",
       "1048570                                 1                C189    1   \n",
       "1048571                                 1                C169    2   \n",
       "1048572                                 3                N185    1   \n",
       "1048573                                 4                I500    1   \n",
       "1048574                                 2                I251    1   \n",
       "\n",
       "         race_recode_3 race_recode_5 hispanic_origin  \\\n",
       "0                    1             1             100   \n",
       "1                    1             1             100   \n",
       "2                    1             1             100   \n",
       "3                    2             3             100   \n",
       "4                    1             1             100   \n",
       "...                ...           ...             ...   \n",
       "1048570              1             1             100   \n",
       "1048571              3             2             100   \n",
       "1048572              1             1             100   \n",
       "1048573              1             1             100   \n",
       "1048574              1             1             100   \n",
       "\n",
       "        hispanic_originrace_recode  \n",
       "0                                6  \n",
       "1                                6  \n",
       "2                                6  \n",
       "3                                8  \n",
       "4                                6  \n",
       "...                            ...  \n",
       "1048570                          6  \n",
       "1048571                          7  \n",
       "1048572                          6  \n",
       "1048573                          6  \n",
       "1048574                          6  \n",
       "\n",
       "[1048575 rows x 32 columns]"
      ]
     },
     "execution_count": 57,
     "metadata": {},
     "output_type": "execute_result"
    }
   ],
   "source": [
    "df"
   ]
  },
  {
   "cell_type": "code",
   "execution_count": 58,
   "metadata": {
    "pycharm": {
     "name": "#%%\n"
    }
   },
   "outputs": [],
   "source": [
    "def is_complete(graph):\n",
    "  n = graph.number_of_nodes()\n",
    "  e = graph.number_of_edges()\n",
    "  \n",
    "  return (n*(n-1))/2 == e"
   ]
  },
  {
   "cell_type": "code",
   "execution_count": 59,
   "metadata": {
    "pycharm": {
     "name": "#%%\n"
    }
   },
   "outputs": [
    {
     "data": {
      "text/html": [
       "<div>\n",
       "<style scoped>\n",
       "    .dataframe tbody tr th:only-of-type {\n",
       "        vertical-align: middle;\n",
       "    }\n",
       "\n",
       "    .dataframe tbody tr th {\n",
       "        vertical-align: top;\n",
       "    }\n",
       "\n",
       "    .dataframe thead th {\n",
       "        text-align: right;\n",
       "    }\n",
       "</style>\n",
       "<table border=\"1\" class=\"dataframe\">\n",
       "  <thead>\n",
       "    <tr style=\"text-align: right;\">\n",
       "      <th></th>\n",
       "      <th>ID</th>\n",
       "      <th>resident_status</th>\n",
       "      <th>education_2003_revision</th>\n",
       "      <th>education_reporting_flag</th>\n",
       "      <th>month_of_death</th>\n",
       "      <th>sex</th>\n",
       "      <th>detail_age_type</th>\n",
       "      <th>detail_age</th>\n",
       "      <th>age_recode_52</th>\n",
       "      <th>age_recode_27</th>\n",
       "      <th>...</th>\n",
       "      <th>39_cause_recode</th>\n",
       "      <th>number_of_entity_axis_conditions</th>\n",
       "      <th>entity_condition_1</th>\n",
       "      <th>number_of_record_axis_conditions</th>\n",
       "      <th>record_condition_1</th>\n",
       "      <th>race</th>\n",
       "      <th>race_recode_3</th>\n",
       "      <th>race_recode_5</th>\n",
       "      <th>hispanic_origin</th>\n",
       "      <th>hispanic_originrace_recode</th>\n",
       "    </tr>\n",
       "  </thead>\n",
       "  <tbody>\n",
       "    <tr>\n",
       "      <th>786467</th>\n",
       "      <td>786468</td>\n",
       "      <td>2</td>\n",
       "      <td>3.0</td>\n",
       "      <td>1</td>\n",
       "      <td>8</td>\n",
       "      <td>1</td>\n",
       "      <td>1</td>\n",
       "      <td>62</td>\n",
       "      <td>38</td>\n",
       "      <td>18</td>\n",
       "      <td>...</td>\n",
       "      <td>12</td>\n",
       "      <td>2</td>\n",
       "      <td>11C64</td>\n",
       "      <td>2</td>\n",
       "      <td>C64</td>\n",
       "      <td>1</td>\n",
       "      <td>1</td>\n",
       "      <td>1</td>\n",
       "      <td>100</td>\n",
       "      <td>6</td>\n",
       "    </tr>\n",
       "    <tr>\n",
       "      <th>120778</th>\n",
       "      <td>120779</td>\n",
       "      <td>1</td>\n",
       "      <td>3.0</td>\n",
       "      <td>1</td>\n",
       "      <td>8</td>\n",
       "      <td>1</td>\n",
       "      <td>1</td>\n",
       "      <td>76</td>\n",
       "      <td>41</td>\n",
       "      <td>21</td>\n",
       "      <td>...</td>\n",
       "      <td>21</td>\n",
       "      <td>2</td>\n",
       "      <td>11I519</td>\n",
       "      <td>1</td>\n",
       "      <td>I251</td>\n",
       "      <td>1</td>\n",
       "      <td>1</td>\n",
       "      <td>1</td>\n",
       "      <td>100</td>\n",
       "      <td>6</td>\n",
       "    </tr>\n",
       "    <tr>\n",
       "      <th>687251</th>\n",
       "      <td>687252</td>\n",
       "      <td>1</td>\n",
       "      <td>1.0</td>\n",
       "      <td>1</td>\n",
       "      <td>2</td>\n",
       "      <td>2</td>\n",
       "      <td>1</td>\n",
       "      <td>85</td>\n",
       "      <td>43</td>\n",
       "      <td>23</td>\n",
       "      <td>...</td>\n",
       "      <td>16</td>\n",
       "      <td>5</td>\n",
       "      <td>61N189</td>\n",
       "      <td>5</td>\n",
       "      <td>E112</td>\n",
       "      <td>2</td>\n",
       "      <td>3</td>\n",
       "      <td>2</td>\n",
       "      <td>100</td>\n",
       "      <td>7</td>\n",
       "    </tr>\n",
       "    <tr>\n",
       "      <th>552595</th>\n",
       "      <td>552596</td>\n",
       "      <td>1</td>\n",
       "      <td>3.0</td>\n",
       "      <td>1</td>\n",
       "      <td>5</td>\n",
       "      <td>2</td>\n",
       "      <td>1</td>\n",
       "      <td>90</td>\n",
       "      <td>44</td>\n",
       "      <td>24</td>\n",
       "      <td>...</td>\n",
       "      <td>28</td>\n",
       "      <td>4</td>\n",
       "      <td>11R54</td>\n",
       "      <td>3</td>\n",
       "      <td>J449</td>\n",
       "      <td>1</td>\n",
       "      <td>1</td>\n",
       "      <td>1</td>\n",
       "      <td>100</td>\n",
       "      <td>6</td>\n",
       "    </tr>\n",
       "    <tr>\n",
       "      <th>790089</th>\n",
       "      <td>790090</td>\n",
       "      <td>1</td>\n",
       "      <td>5.0</td>\n",
       "      <td>1</td>\n",
       "      <td>9</td>\n",
       "      <td>2</td>\n",
       "      <td>1</td>\n",
       "      <td>48</td>\n",
       "      <td>35</td>\n",
       "      <td>15</td>\n",
       "      <td>...</td>\n",
       "      <td>32</td>\n",
       "      <td>4</td>\n",
       "      <td>11O268</td>\n",
       "      <td>1</td>\n",
       "      <td>O268</td>\n",
       "      <td>1</td>\n",
       "      <td>1</td>\n",
       "      <td>1</td>\n",
       "      <td>100</td>\n",
       "      <td>6</td>\n",
       "    </tr>\n",
       "    <tr>\n",
       "      <th>808469</th>\n",
       "      <td>808470</td>\n",
       "      <td>1</td>\n",
       "      <td>8.0</td>\n",
       "      <td>1</td>\n",
       "      <td>10</td>\n",
       "      <td>1</td>\n",
       "      <td>1</td>\n",
       "      <td>86</td>\n",
       "      <td>43</td>\n",
       "      <td>23</td>\n",
       "      <td>...</td>\n",
       "      <td>21</td>\n",
       "      <td>3</td>\n",
       "      <td>11I249</td>\n",
       "      <td>3</td>\n",
       "      <td>I251</td>\n",
       "      <td>1</td>\n",
       "      <td>1</td>\n",
       "      <td>1</td>\n",
       "      <td>100</td>\n",
       "      <td>6</td>\n",
       "    </tr>\n",
       "    <tr>\n",
       "      <th>479442</th>\n",
       "      <td>479443</td>\n",
       "      <td>1</td>\n",
       "      <td>6.0</td>\n",
       "      <td>1</td>\n",
       "      <td>7</td>\n",
       "      <td>1</td>\n",
       "      <td>1</td>\n",
       "      <td>81</td>\n",
       "      <td>42</td>\n",
       "      <td>22</td>\n",
       "      <td>...</td>\n",
       "      <td>31</td>\n",
       "      <td>2</td>\n",
       "      <td>11A419</td>\n",
       "      <td>2</td>\n",
       "      <td>N179</td>\n",
       "      <td>1</td>\n",
       "      <td>1</td>\n",
       "      <td>1</td>\n",
       "      <td>100</td>\n",
       "      <td>6</td>\n",
       "    </tr>\n",
       "    <tr>\n",
       "      <th>779900</th>\n",
       "      <td>779901</td>\n",
       "      <td>1</td>\n",
       "      <td>3.0</td>\n",
       "      <td>1</td>\n",
       "      <td>5</td>\n",
       "      <td>2</td>\n",
       "      <td>1</td>\n",
       "      <td>75</td>\n",
       "      <td>41</td>\n",
       "      <td>21</td>\n",
       "      <td>...</td>\n",
       "      <td>16</td>\n",
       "      <td>4</td>\n",
       "      <td>11N185</td>\n",
       "      <td>3</td>\n",
       "      <td>E112</td>\n",
       "      <td>78</td>\n",
       "      <td>2</td>\n",
       "      <td>4</td>\n",
       "      <td>100</td>\n",
       "      <td>8</td>\n",
       "    </tr>\n",
       "    <tr>\n",
       "      <th>778650</th>\n",
       "      <td>778651</td>\n",
       "      <td>1</td>\n",
       "      <td>2.0</td>\n",
       "      <td>1</td>\n",
       "      <td>4</td>\n",
       "      <td>2</td>\n",
       "      <td>1</td>\n",
       "      <td>55</td>\n",
       "      <td>37</td>\n",
       "      <td>17</td>\n",
       "      <td>...</td>\n",
       "      <td>37</td>\n",
       "      <td>7</td>\n",
       "      <td>11A419</td>\n",
       "      <td>7</td>\n",
       "      <td>A047</td>\n",
       "      <td>1</td>\n",
       "      <td>1</td>\n",
       "      <td>1</td>\n",
       "      <td>100</td>\n",
       "      <td>6</td>\n",
       "    </tr>\n",
       "    <tr>\n",
       "      <th>491247</th>\n",
       "      <td>491248</td>\n",
       "      <td>1</td>\n",
       "      <td>8.0</td>\n",
       "      <td>1</td>\n",
       "      <td>1</td>\n",
       "      <td>1</td>\n",
       "      <td>1</td>\n",
       "      <td>63</td>\n",
       "      <td>38</td>\n",
       "      <td>18</td>\n",
       "      <td>...</td>\n",
       "      <td>11</td>\n",
       "      <td>1</td>\n",
       "      <td>11C61</td>\n",
       "      <td>1</td>\n",
       "      <td>C61</td>\n",
       "      <td>1</td>\n",
       "      <td>1</td>\n",
       "      <td>1</td>\n",
       "      <td>100</td>\n",
       "      <td>6</td>\n",
       "    </tr>\n",
       "    <tr>\n",
       "      <th>911878</th>\n",
       "      <td>911879</td>\n",
       "      <td>1</td>\n",
       "      <td>3.0</td>\n",
       "      <td>1</td>\n",
       "      <td>12</td>\n",
       "      <td>1</td>\n",
       "      <td>1</td>\n",
       "      <td>91</td>\n",
       "      <td>44</td>\n",
       "      <td>24</td>\n",
       "      <td>...</td>\n",
       "      <td>27</td>\n",
       "      <td>1</td>\n",
       "      <td>11J189</td>\n",
       "      <td>1</td>\n",
       "      <td>J189</td>\n",
       "      <td>1</td>\n",
       "      <td>1</td>\n",
       "      <td>1</td>\n",
       "      <td>100</td>\n",
       "      <td>6</td>\n",
       "    </tr>\n",
       "    <tr>\n",
       "      <th>259601</th>\n",
       "      <td>259602</td>\n",
       "      <td>1</td>\n",
       "      <td>3.0</td>\n",
       "      <td>1</td>\n",
       "      <td>6</td>\n",
       "      <td>2</td>\n",
       "      <td>1</td>\n",
       "      <td>89</td>\n",
       "      <td>43</td>\n",
       "      <td>23</td>\n",
       "      <td>...</td>\n",
       "      <td>37</td>\n",
       "      <td>4</td>\n",
       "      <td>11J189</td>\n",
       "      <td>4</td>\n",
       "      <td>F019</td>\n",
       "      <td>1</td>\n",
       "      <td>1</td>\n",
       "      <td>1</td>\n",
       "      <td>100</td>\n",
       "      <td>6</td>\n",
       "    </tr>\n",
       "    <tr>\n",
       "      <th>765163</th>\n",
       "      <td>765164</td>\n",
       "      <td>1</td>\n",
       "      <td>3.0</td>\n",
       "      <td>1</td>\n",
       "      <td>8</td>\n",
       "      <td>1</td>\n",
       "      <td>1</td>\n",
       "      <td>87</td>\n",
       "      <td>43</td>\n",
       "      <td>23</td>\n",
       "      <td>...</td>\n",
       "      <td>39</td>\n",
       "      <td>5</td>\n",
       "      <td>11T319</td>\n",
       "      <td>5</td>\n",
       "      <td>X00</td>\n",
       "      <td>78</td>\n",
       "      <td>2</td>\n",
       "      <td>4</td>\n",
       "      <td>100</td>\n",
       "      <td>8</td>\n",
       "    </tr>\n",
       "    <tr>\n",
       "      <th>400498</th>\n",
       "      <td>400499</td>\n",
       "      <td>1</td>\n",
       "      <td>1.0</td>\n",
       "      <td>1</td>\n",
       "      <td>4</td>\n",
       "      <td>1</td>\n",
       "      <td>6</td>\n",
       "      <td>1</td>\n",
       "      <td>1</td>\n",
       "      <td>1</td>\n",
       "      <td>...</td>\n",
       "      <td>33</td>\n",
       "      <td>1</td>\n",
       "      <td>11P072</td>\n",
       "      <td>1</td>\n",
       "      <td>P072</td>\n",
       "      <td>1</td>\n",
       "      <td>1</td>\n",
       "      <td>1</td>\n",
       "      <td>210</td>\n",
       "      <td>1</td>\n",
       "    </tr>\n",
       "    <tr>\n",
       "      <th>645917</th>\n",
       "      <td>645918</td>\n",
       "      <td>1</td>\n",
       "      <td>3.0</td>\n",
       "      <td>1</td>\n",
       "      <td>11</td>\n",
       "      <td>1</td>\n",
       "      <td>1</td>\n",
       "      <td>82</td>\n",
       "      <td>42</td>\n",
       "      <td>22</td>\n",
       "      <td>...</td>\n",
       "      <td>40</td>\n",
       "      <td>3</td>\n",
       "      <td>11S019</td>\n",
       "      <td>3</td>\n",
       "      <td>X72</td>\n",
       "      <td>1</td>\n",
       "      <td>1</td>\n",
       "      <td>1</td>\n",
       "      <td>100</td>\n",
       "      <td>6</td>\n",
       "    </tr>\n",
       "    <tr>\n",
       "      <th>962549</th>\n",
       "      <td>962550</td>\n",
       "      <td>1</td>\n",
       "      <td>6.0</td>\n",
       "      <td>1</td>\n",
       "      <td>10</td>\n",
       "      <td>1</td>\n",
       "      <td>1</td>\n",
       "      <td>68</td>\n",
       "      <td>39</td>\n",
       "      <td>19</td>\n",
       "      <td>...</td>\n",
       "      <td>39</td>\n",
       "      <td>2</td>\n",
       "      <td>11S065</td>\n",
       "      <td>2</td>\n",
       "      <td>W18</td>\n",
       "      <td>1</td>\n",
       "      <td>1</td>\n",
       "      <td>1</td>\n",
       "      <td>100</td>\n",
       "      <td>6</td>\n",
       "    </tr>\n",
       "    <tr>\n",
       "      <th>743020</th>\n",
       "      <td>743021</td>\n",
       "      <td>1</td>\n",
       "      <td>2.0</td>\n",
       "      <td>1</td>\n",
       "      <td>11</td>\n",
       "      <td>1</td>\n",
       "      <td>1</td>\n",
       "      <td>76</td>\n",
       "      <td>41</td>\n",
       "      <td>21</td>\n",
       "      <td>...</td>\n",
       "      <td>17</td>\n",
       "      <td>2</td>\n",
       "      <td>11G309</td>\n",
       "      <td>2</td>\n",
       "      <td>G309</td>\n",
       "      <td>2</td>\n",
       "      <td>3</td>\n",
       "      <td>2</td>\n",
       "      <td>100</td>\n",
       "      <td>7</td>\n",
       "    </tr>\n",
       "    <tr>\n",
       "      <th>589578</th>\n",
       "      <td>589579</td>\n",
       "      <td>1</td>\n",
       "      <td>3.0</td>\n",
       "      <td>1</td>\n",
       "      <td>7</td>\n",
       "      <td>2</td>\n",
       "      <td>1</td>\n",
       "      <td>87</td>\n",
       "      <td>43</td>\n",
       "      <td>23</td>\n",
       "      <td>...</td>\n",
       "      <td>37</td>\n",
       "      <td>1</td>\n",
       "      <td>11G20</td>\n",
       "      <td>1</td>\n",
       "      <td>G20</td>\n",
       "      <td>1</td>\n",
       "      <td>1</td>\n",
       "      <td>1</td>\n",
       "      <td>100</td>\n",
       "      <td>6</td>\n",
       "    </tr>\n",
       "    <tr>\n",
       "      <th>326353</th>\n",
       "      <td>326354</td>\n",
       "      <td>2</td>\n",
       "      <td>4.0</td>\n",
       "      <td>1</td>\n",
       "      <td>9</td>\n",
       "      <td>2</td>\n",
       "      <td>1</td>\n",
       "      <td>89</td>\n",
       "      <td>43</td>\n",
       "      <td>23</td>\n",
       "      <td>...</td>\n",
       "      <td>36</td>\n",
       "      <td>2</td>\n",
       "      <td>11R58</td>\n",
       "      <td>2</td>\n",
       "      <td>R58</td>\n",
       "      <td>1</td>\n",
       "      <td>1</td>\n",
       "      <td>1</td>\n",
       "      <td>100</td>\n",
       "      <td>6</td>\n",
       "    </tr>\n",
       "    <tr>\n",
       "      <th>578323</th>\n",
       "      <td>578324</td>\n",
       "      <td>1</td>\n",
       "      <td>4.0</td>\n",
       "      <td>1</td>\n",
       "      <td>6</td>\n",
       "      <td>1</td>\n",
       "      <td>1</td>\n",
       "      <td>55</td>\n",
       "      <td>37</td>\n",
       "      <td>17</td>\n",
       "      <td>...</td>\n",
       "      <td>8</td>\n",
       "      <td>1</td>\n",
       "      <td>11C349</td>\n",
       "      <td>1</td>\n",
       "      <td>C349</td>\n",
       "      <td>1</td>\n",
       "      <td>1</td>\n",
       "      <td>1</td>\n",
       "      <td>100</td>\n",
       "      <td>6</td>\n",
       "    </tr>\n",
       "    <tr>\n",
       "      <th>389836</th>\n",
       "      <td>389837</td>\n",
       "      <td>1</td>\n",
       "      <td>8.0</td>\n",
       "      <td>1</td>\n",
       "      <td>12</td>\n",
       "      <td>1</td>\n",
       "      <td>1</td>\n",
       "      <td>47</td>\n",
       "      <td>35</td>\n",
       "      <td>15</td>\n",
       "      <td>...</td>\n",
       "      <td>40</td>\n",
       "      <td>3</td>\n",
       "      <td>11S219</td>\n",
       "      <td>3</td>\n",
       "      <td>X72</td>\n",
       "      <td>1</td>\n",
       "      <td>1</td>\n",
       "      <td>1</td>\n",
       "      <td>100</td>\n",
       "      <td>6</td>\n",
       "    </tr>\n",
       "    <tr>\n",
       "      <th>990664</th>\n",
       "      <td>990665</td>\n",
       "      <td>1</td>\n",
       "      <td>4.0</td>\n",
       "      <td>1</td>\n",
       "      <td>6</td>\n",
       "      <td>1</td>\n",
       "      <td>1</td>\n",
       "      <td>55</td>\n",
       "      <td>37</td>\n",
       "      <td>17</td>\n",
       "      <td>...</td>\n",
       "      <td>30</td>\n",
       "      <td>2</td>\n",
       "      <td>11K769</td>\n",
       "      <td>1</td>\n",
       "      <td>K746</td>\n",
       "      <td>1</td>\n",
       "      <td>1</td>\n",
       "      <td>1</td>\n",
       "      <td>100</td>\n",
       "      <td>6</td>\n",
       "    </tr>\n",
       "    <tr>\n",
       "      <th>680525</th>\n",
       "      <td>680526</td>\n",
       "      <td>2</td>\n",
       "      <td>1.0</td>\n",
       "      <td>1</td>\n",
       "      <td>1</td>\n",
       "      <td>1</td>\n",
       "      <td>1</td>\n",
       "      <td>82</td>\n",
       "      <td>42</td>\n",
       "      <td>22</td>\n",
       "      <td>...</td>\n",
       "      <td>37</td>\n",
       "      <td>5</td>\n",
       "      <td>11I469</td>\n",
       "      <td>4</td>\n",
       "      <td>A419</td>\n",
       "      <td>2</td>\n",
       "      <td>3</td>\n",
       "      <td>2</td>\n",
       "      <td>100</td>\n",
       "      <td>7</td>\n",
       "    </tr>\n",
       "    <tr>\n",
       "      <th>330515</th>\n",
       "      <td>330516</td>\n",
       "      <td>1</td>\n",
       "      <td>6.0</td>\n",
       "      <td>1</td>\n",
       "      <td>9</td>\n",
       "      <td>1</td>\n",
       "      <td>1</td>\n",
       "      <td>42</td>\n",
       "      <td>34</td>\n",
       "      <td>14</td>\n",
       "      <td>...</td>\n",
       "      <td>15</td>\n",
       "      <td>4</td>\n",
       "      <td>11C229</td>\n",
       "      <td>4</td>\n",
       "      <td>C229</td>\n",
       "      <td>7</td>\n",
       "      <td>2</td>\n",
       "      <td>4</td>\n",
       "      <td>100</td>\n",
       "      <td>8</td>\n",
       "    </tr>\n",
       "  </tbody>\n",
       "</table>\n",
       "<p>24 rows × 32 columns</p>\n",
       "</div>"
      ],
      "text/plain": [
       "            ID  resident_status  education_2003_revision  \\\n",
       "786467  786468                2                      3.0   \n",
       "120778  120779                1                      3.0   \n",
       "687251  687252                1                      1.0   \n",
       "552595  552596                1                      3.0   \n",
       "790089  790090                1                      5.0   \n",
       "808469  808470                1                      8.0   \n",
       "479442  479443                1                      6.0   \n",
       "779900  779901                1                      3.0   \n",
       "778650  778651                1                      2.0   \n",
       "491247  491248                1                      8.0   \n",
       "911878  911879                1                      3.0   \n",
       "259601  259602                1                      3.0   \n",
       "765163  765164                1                      3.0   \n",
       "400498  400499                1                      1.0   \n",
       "645917  645918                1                      3.0   \n",
       "962549  962550                1                      6.0   \n",
       "743020  743021                1                      2.0   \n",
       "589578  589579                1                      3.0   \n",
       "326353  326354                2                      4.0   \n",
       "578323  578324                1                      4.0   \n",
       "389836  389837                1                      8.0   \n",
       "990664  990665                1                      4.0   \n",
       "680525  680526                2                      1.0   \n",
       "330515  330516                1                      6.0   \n",
       "\n",
       "        education_reporting_flag  month_of_death  sex  detail_age_type  \\\n",
       "786467                         1               8    1                1   \n",
       "120778                         1               8    1                1   \n",
       "687251                         1               2    2                1   \n",
       "552595                         1               5    2                1   \n",
       "790089                         1               9    2                1   \n",
       "808469                         1              10    1                1   \n",
       "479442                         1               7    1                1   \n",
       "779900                         1               5    2                1   \n",
       "778650                         1               4    2                1   \n",
       "491247                         1               1    1                1   \n",
       "911878                         1              12    1                1   \n",
       "259601                         1               6    2                1   \n",
       "765163                         1               8    1                1   \n",
       "400498                         1               4    1                6   \n",
       "645917                         1              11    1                1   \n",
       "962549                         1              10    1                1   \n",
       "743020                         1              11    1                1   \n",
       "589578                         1               7    2                1   \n",
       "326353                         1               9    2                1   \n",
       "578323                         1               6    1                1   \n",
       "389836                         1              12    1                1   \n",
       "990664                         1               6    1                1   \n",
       "680525                         1               1    1                1   \n",
       "330515                         1               9    1                1   \n",
       "\n",
       "        detail_age  age_recode_52  age_recode_27  ...  39_cause_recode  \\\n",
       "786467          62             38             18  ...               12   \n",
       "120778          76             41             21  ...               21   \n",
       "687251          85             43             23  ...               16   \n",
       "552595          90             44             24  ...               28   \n",
       "790089          48             35             15  ...               32   \n",
       "808469          86             43             23  ...               21   \n",
       "479442          81             42             22  ...               31   \n",
       "779900          75             41             21  ...               16   \n",
       "778650          55             37             17  ...               37   \n",
       "491247          63             38             18  ...               11   \n",
       "911878          91             44             24  ...               27   \n",
       "259601          89             43             23  ...               37   \n",
       "765163          87             43             23  ...               39   \n",
       "400498           1              1              1  ...               33   \n",
       "645917          82             42             22  ...               40   \n",
       "962549          68             39             19  ...               39   \n",
       "743020          76             41             21  ...               17   \n",
       "589578          87             43             23  ...               37   \n",
       "326353          89             43             23  ...               36   \n",
       "578323          55             37             17  ...                8   \n",
       "389836          47             35             15  ...               40   \n",
       "990664          55             37             17  ...               30   \n",
       "680525          82             42             22  ...               37   \n",
       "330515          42             34             14  ...               15   \n",
       "\n",
       "        number_of_entity_axis_conditions  entity_condition_1  \\\n",
       "786467                                 2               11C64   \n",
       "120778                                 2              11I519   \n",
       "687251                                 5              61N189   \n",
       "552595                                 4               11R54   \n",
       "790089                                 4              11O268   \n",
       "808469                                 3              11I249   \n",
       "479442                                 2              11A419   \n",
       "779900                                 4              11N185   \n",
       "778650                                 7              11A419   \n",
       "491247                                 1               11C61   \n",
       "911878                                 1              11J189   \n",
       "259601                                 4              11J189   \n",
       "765163                                 5              11T319   \n",
       "400498                                 1              11P072   \n",
       "645917                                 3              11S019   \n",
       "962549                                 2              11S065   \n",
       "743020                                 2              11G309   \n",
       "589578                                 1               11G20   \n",
       "326353                                 2               11R58   \n",
       "578323                                 1              11C349   \n",
       "389836                                 3              11S219   \n",
       "990664                                 2              11K769   \n",
       "680525                                 5              11I469   \n",
       "330515                                 4              11C229   \n",
       "\n",
       "        number_of_record_axis_conditions  record_condition_1 race  \\\n",
       "786467                                 2                 C64    1   \n",
       "120778                                 1                I251    1   \n",
       "687251                                 5                E112    2   \n",
       "552595                                 3                J449    1   \n",
       "790089                                 1                O268    1   \n",
       "808469                                 3                I251    1   \n",
       "479442                                 2                N179    1   \n",
       "779900                                 3                E112   78   \n",
       "778650                                 7                A047    1   \n",
       "491247                                 1                 C61    1   \n",
       "911878                                 1                J189    1   \n",
       "259601                                 4                F019    1   \n",
       "765163                                 5                 X00   78   \n",
       "400498                                 1                P072    1   \n",
       "645917                                 3                 X72    1   \n",
       "962549                                 2                 W18    1   \n",
       "743020                                 2                G309    2   \n",
       "589578                                 1                 G20    1   \n",
       "326353                                 2                 R58    1   \n",
       "578323                                 1                C349    1   \n",
       "389836                                 3                 X72    1   \n",
       "990664                                 1                K746    1   \n",
       "680525                                 4                A419    2   \n",
       "330515                                 4                C229    7   \n",
       "\n",
       "        race_recode_3 race_recode_5 hispanic_origin hispanic_originrace_recode  \n",
       "786467              1             1             100                          6  \n",
       "120778              1             1             100                          6  \n",
       "687251              3             2             100                          7  \n",
       "552595              1             1             100                          6  \n",
       "790089              1             1             100                          6  \n",
       "808469              1             1             100                          6  \n",
       "479442              1             1             100                          6  \n",
       "779900              2             4             100                          8  \n",
       "778650              1             1             100                          6  \n",
       "491247              1             1             100                          6  \n",
       "911878              1             1             100                          6  \n",
       "259601              1             1             100                          6  \n",
       "765163              2             4             100                          8  \n",
       "400498              1             1             210                          1  \n",
       "645917              1             1             100                          6  \n",
       "962549              1             1             100                          6  \n",
       "743020              3             2             100                          7  \n",
       "589578              1             1             100                          6  \n",
       "326353              1             1             100                          6  \n",
       "578323              1             1             100                          6  \n",
       "389836              1             1             100                          6  \n",
       "990664              1             1             100                          6  \n",
       "680525              3             2             100                          7  \n",
       "330515              2             4             100                          8  \n",
       "\n",
       "[24 rows x 32 columns]"
      ]
     },
     "execution_count": 59,
     "metadata": {},
     "output_type": "execute_result"
    }
   ],
   "source": [
    "df_sub"
   ]
  },
  {
   "cell_type": "code",
   "execution_count": 60,
   "metadata": {
    "pycharm": {
     "name": "#%%\n"
    }
   },
   "outputs": [],
   "source": [
    "from sklearn.preprocessing import LabelEncoder"
   ]
  },
  {
   "cell_type": "code",
   "execution_count": 61,
   "metadata": {
    "pycharm": {
     "name": "#%%\n"
    }
   },
   "outputs": [
    {
     "name": "stdout",
     "output_type": "stream",
     "text": [
      "            ID  resident_status  education_2003_revision  \\\n",
      "786467  786468                2                      3.0   \n",
      "120778  120779                1                      3.0   \n",
      "687251  687252                1                      1.0   \n",
      "552595  552596                1                      3.0   \n",
      "790089  790090                1                      5.0   \n",
      "808469  808470                1                      8.0   \n",
      "479442  479443                1                      6.0   \n",
      "779900  779901                1                      3.0   \n",
      "778650  778651                1                      2.0   \n",
      "491247  491248                1                      8.0   \n",
      "911878  911879                1                      3.0   \n",
      "259601  259602                1                      3.0   \n",
      "765163  765164                1                      3.0   \n",
      "400498  400499                1                      1.0   \n",
      "645917  645918                1                      3.0   \n",
      "962549  962550                1                      6.0   \n",
      "743020  743021                1                      2.0   \n",
      "589578  589579                1                      3.0   \n",
      "326353  326354                2                      4.0   \n",
      "578323  578324                1                      4.0   \n",
      "389836  389837                1                      8.0   \n",
      "990664  990665                1                      4.0   \n",
      "680525  680526                2                      1.0   \n",
      "330515  330516                1                      6.0   \n",
      "\n",
      "        education_reporting_flag  month_of_death  sex  detail_age_type  \\\n",
      "786467                         1               8    1                1   \n",
      "120778                         1               8    1                1   \n",
      "687251                         1               2    2                1   \n",
      "552595                         1               5    2                1   \n",
      "790089                         1               9    2                1   \n",
      "808469                         1              10    1                1   \n",
      "479442                         1               7    1                1   \n",
      "779900                         1               5    2                1   \n",
      "778650                         1               4    2                1   \n",
      "491247                         1               1    1                1   \n",
      "911878                         1              12    1                1   \n",
      "259601                         1               6    2                1   \n",
      "765163                         1               8    1                1   \n",
      "400498                         1               4    1                6   \n",
      "645917                         1              11    1                1   \n",
      "962549                         1              10    1                1   \n",
      "743020                         1              11    1                1   \n",
      "589578                         1               7    2                1   \n",
      "326353                         1               9    2                1   \n",
      "578323                         1               6    1                1   \n",
      "389836                         1              12    1                1   \n",
      "990664                         1               6    1                1   \n",
      "680525                         1               1    1                1   \n",
      "330515                         1               9    1                1   \n",
      "\n",
      "        detail_age  age_recode_52  age_recode_27  ...  39_cause_recode  \\\n",
      "786467          62             38             18  ...               12   \n",
      "120778          76             41             21  ...               21   \n",
      "687251          85             43             23  ...               16   \n",
      "552595          90             44             24  ...               28   \n",
      "790089          48             35             15  ...               32   \n",
      "808469          86             43             23  ...               21   \n",
      "479442          81             42             22  ...               31   \n",
      "779900          75             41             21  ...               16   \n",
      "778650          55             37             17  ...               37   \n",
      "491247          63             38             18  ...               11   \n",
      "911878          91             44             24  ...               27   \n",
      "259601          89             43             23  ...               37   \n",
      "765163          87             43             23  ...               39   \n",
      "400498           1              1              1  ...               33   \n",
      "645917          82             42             22  ...               40   \n",
      "962549          68             39             19  ...               39   \n",
      "743020          76             41             21  ...               17   \n",
      "589578          87             43             23  ...               37   \n",
      "326353          89             43             23  ...               36   \n",
      "578323          55             37             17  ...                8   \n",
      "389836          47             35             15  ...               40   \n",
      "990664          55             37             17  ...               30   \n",
      "680525          82             42             22  ...               37   \n",
      "330515          42             34             14  ...               15   \n",
      "\n",
      "        number_of_entity_axis_conditions  entity_condition_1  \\\n",
      "786467                                 2                   4   \n",
      "120778                                 2                   9   \n",
      "687251                                 5                  21   \n",
      "552595                                 4                  15   \n",
      "790089                                 4                  13   \n",
      "808469                                 3                   7   \n",
      "479442                                 2                   0   \n",
      "779900                                 4                  12   \n",
      "778650                                 7                   0   \n",
      "491247                                 1                   3   \n",
      "911878                                 1                  10   \n",
      "259601                                 4                  10   \n",
      "765163                                 5                  20   \n",
      "400498                                 1                  14   \n",
      "645917                                 3                  17   \n",
      "962549                                 2                  18   \n",
      "743020                                 2                   6   \n",
      "589578                                 1                   5   \n",
      "326353                                 2                  16   \n",
      "578323                                 1                   2   \n",
      "389836                                 3                  19   \n",
      "990664                                 2                  11   \n",
      "680525                                 5                   8   \n",
      "330515                                 4                   1   \n",
      "\n",
      "        number_of_record_axis_conditions  record_condition_1 race  \\\n",
      "786467                                 2                   5    1   \n",
      "120778                                 1                  10    1   \n",
      "687251                                 5                   6    2   \n",
      "552595                                 3                  12    1   \n",
      "790089                                 1                  15    1   \n",
      "808469                                 3                  10    1   \n",
      "479442                                 2                  14    1   \n",
      "779900                                 3                   6   78   \n",
      "778650                                 7                   0    1   \n",
      "491247                                 1                   4    1   \n",
      "911878                                 1                  11    1   \n",
      "259601                                 4                   7    1   \n",
      "765163                                 5                  19   78   \n",
      "400498                                 1                  16    1   \n",
      "645917                                 3                  20    1   \n",
      "962549                                 2                  18    1   \n",
      "743020                                 2                   9    2   \n",
      "589578                                 1                   8    1   \n",
      "326353                                 2                  17    1   \n",
      "578323                                 1                   3    1   \n",
      "389836                                 3                  20    1   \n",
      "990664                                 1                  13    1   \n",
      "680525                                 4                   1    2   \n",
      "330515                                 4                   2    7   \n",
      "\n",
      "        race_recode_3  race_recode_5  hispanic_origin  \\\n",
      "786467              1              1              100   \n",
      "120778              1              1              100   \n",
      "687251              3              2              100   \n",
      "552595              1              1              100   \n",
      "790089              1              1              100   \n",
      "808469              1              1              100   \n",
      "479442              1              1              100   \n",
      "779900              2              4              100   \n",
      "778650              1              1              100   \n",
      "491247              1              1              100   \n",
      "911878              1              1              100   \n",
      "259601              1              1              100   \n",
      "765163              2              4              100   \n",
      "400498              1              1              210   \n",
      "645917              1              1              100   \n",
      "962549              1              1              100   \n",
      "743020              3              2              100   \n",
      "589578              1              1              100   \n",
      "326353              1              1              100   \n",
      "578323              1              1              100   \n",
      "389836              1              1              100   \n",
      "990664              1              1              100   \n",
      "680525              3              2              100   \n",
      "330515              2              4              100   \n",
      "\n",
      "        hispanic_originrace_recode  \n",
      "786467                           6  \n",
      "120778                           6  \n",
      "687251                           7  \n",
      "552595                           6  \n",
      "790089                           6  \n",
      "808469                           6  \n",
      "479442                           6  \n",
      "779900                           8  \n",
      "778650                           6  \n",
      "491247                           6  \n",
      "911878                           6  \n",
      "259601                           6  \n",
      "765163                           8  \n",
      "400498                           1  \n",
      "645917                           6  \n",
      "962549                           6  \n",
      "743020                           7  \n",
      "589578                           6  \n",
      "326353                           6  \n",
      "578323                           6  \n",
      "389836                           6  \n",
      "990664                           6  \n",
      "680525                           7  \n",
      "330515                           8  \n",
      "\n",
      "[24 rows x 32 columns]\n",
      "              ID  resident_status  education_2003_revision  \\\n",
      "0              1                1                      3.0   \n",
      "1              2                1                      6.0   \n",
      "2              3                1                      3.0   \n",
      "3              4                1                      3.0   \n",
      "4              5                1                      5.0   \n",
      "...          ...              ...                      ...   \n",
      "1048570  1048571                1                      5.0   \n",
      "1048571  1048572                1                      3.0   \n",
      "1048572  1048573                1                      1.0   \n",
      "1048573  1048574                1                      1.0   \n",
      "1048574  1048575                1                      3.0   \n",
      "\n",
      "         education_reporting_flag  month_of_death  sex  detail_age_type  \\\n",
      "0                               1               1    1                1   \n",
      "1                               1               1    1                1   \n",
      "2                               1               1    2                1   \n",
      "3                               1               1    2                1   \n",
      "4                               1               1    2                1   \n",
      "...                           ...             ...  ...              ...   \n",
      "1048570                         1              12    1                1   \n",
      "1048571                         1              11    2                1   \n",
      "1048572                         1              12    2                1   \n",
      "1048573                         1              12    1                1   \n",
      "1048574                         1              12    2                1   \n",
      "\n",
      "         detail_age  age_recode_52  age_recode_27  ...  39_cause_recode  \\\n",
      "0                84             42             22  ...               22   \n",
      "1                70             40             20  ...                8   \n",
      "2                91             44             24  ...               17   \n",
      "3                40             34             14  ...               41   \n",
      "4                89             43             23  ...               21   \n",
      "...             ...            ...            ...  ...              ...   \n",
      "1048570          75             41             21  ...                6   \n",
      "1048571          62             38             18  ...                5   \n",
      "1048572          95             45             25  ...               31   \n",
      "1048573          86             43             23  ...               22   \n",
      "1048574          88             43             23  ...               21   \n",
      "\n",
      "         number_of_entity_axis_conditions  entity_condition_1  \\\n",
      "0                                       2                1039   \n",
      "1                                       8                1030   \n",
      "2                                       1                 832   \n",
      "3                                       6                2386   \n",
      "4                                       3                 964   \n",
      "...                                   ...                 ...   \n",
      "1048570                                 1                 246   \n",
      "1048571                                 1                 232   \n",
      "1048572                                 4                1946   \n",
      "1048573                                 4                1030   \n",
      "1048574                                 2                 965   \n",
      "\n",
      "         number_of_record_axis_conditions  record_condition_1 race  \\\n",
      "0                                       2                1322    1   \n",
      "1                                       7                 323    1   \n",
      "2                                       1                1070    1   \n",
      "3                                       5                3044    3   \n",
      "4                                       3                1239    1   \n",
      "...                                   ...                 ...  ...   \n",
      "1048570                                 1                 280    1   \n",
      "1048571                                 1                 266    2   \n",
      "1048572                                 3                2059    1   \n",
      "1048573                                 4                1322    1   \n",
      "1048574                                 2                1240    1   \n",
      "\n",
      "         race_recode_3  race_recode_5  hispanic_origin  \\\n",
      "0                    1              1              100   \n",
      "1                    1              1              100   \n",
      "2                    1              1              100   \n",
      "3                    2              3              100   \n",
      "4                    1              1              100   \n",
      "...                ...            ...              ...   \n",
      "1048570              1              1              100   \n",
      "1048571              3              2              100   \n",
      "1048572              1              1              100   \n",
      "1048573              1              1              100   \n",
      "1048574              1              1              100   \n",
      "\n",
      "         hispanic_originrace_recode  \n",
      "0                                 6  \n",
      "1                                 6  \n",
      "2                                 6  \n",
      "3                                 8  \n",
      "4                                 6  \n",
      "...                             ...  \n",
      "1048570                           6  \n",
      "1048571                           7  \n",
      "1048572                           6  \n",
      "1048573                           6  \n",
      "1048574                           6  \n",
      "\n",
      "[1048575 rows x 32 columns]\n"
     ]
    }
   ],
   "source": [
    "le = LabelEncoder()\n",
    "df_sub['method_of_disposition'] = le.fit_transform(df_sub['method_of_disposition'])\n",
    "df_sub['autopsy'] = le.fit_transform(df_sub['autopsy'])\n",
    "df_sub['icd_code_10th_revision'] = le.fit_transform(df_sub['icd_code_10th_revision'])\n",
    "df_sub['entity_condition_1'] = le.fit_transform(df_sub['entity_condition_1'])\n",
    "df_sub['record_condition_1'] = le.fit_transform(df_sub['record_condition_1'])\n",
    "\n",
    "df['method_of_disposition'] = le.fit_transform(df['method_of_disposition'])\n",
    "df['autopsy'] = le.fit_transform(df['autopsy'])\n",
    "df['icd_code_10th_revision'] = le.fit_transform(df['icd_code_10th_revision'])\n",
    "df['entity_condition_1'] = le.fit_transform(df['entity_condition_1'])\n",
    "df['record_condition_1'] = le.fit_transform(df['record_condition_1'])\n",
    "\n",
    "\n",
    "print(df_sub)\n",
    "print(df)"
   ]
  },
  {
   "cell_type": "code",
   "execution_count": 62,
   "metadata": {
    "pycharm": {
     "name": "#%%\n"
    }
   },
   "outputs": [
    {
     "name": "stdout",
     "output_type": "stream",
     "text": [
      "<class 'pandas.core.frame.DataFrame'>\n",
      "Int64Index: 24 entries, 786467 to 330515\n",
      "Data columns (total 32 columns):\n",
      " #   Column                               Non-Null Count  Dtype  \n",
      "---  ------                               --------------  -----  \n",
      " 0   ID                                   24 non-null     int64  \n",
      " 1   resident_status                      24 non-null     int64  \n",
      " 2   education_2003_revision              24 non-null     float64\n",
      " 3   education_reporting_flag             24 non-null     int64  \n",
      " 4   month_of_death                       24 non-null     int64  \n",
      " 5   sex                                  24 non-null     int64  \n",
      " 6   detail_age_type                      24 non-null     int64  \n",
      " 7   detail_age                           24 non-null     int64  \n",
      " 8   age_recode_52                        24 non-null     int64  \n",
      " 9   age_recode_27                        24 non-null     int64  \n",
      " 10  age_recode_12                        24 non-null     int64  \n",
      " 11  place_of_death_and_decedents_status  24 non-null     int64  \n",
      " 12  marital_status                       24 non-null     int64  \n",
      " 13  day_of_week_of_death                 24 non-null     int64  \n",
      " 14  current_data_year                    24 non-null     int64  \n",
      " 15  injury_at_work                       24 non-null     object \n",
      " 16  manner_of_death                      24 non-null     float64\n",
      " 17  method_of_disposition                24 non-null     int32  \n",
      " 18  autopsy                              24 non-null     int32  \n",
      " 19  icd_code_10th_revision               24 non-null     int32  \n",
      " 20  358_cause_recode                     24 non-null     int64  \n",
      " 21  113_cause_recode                     24 non-null     int64  \n",
      " 22  39_cause_recode                      24 non-null     int64  \n",
      " 23  number_of_entity_axis_conditions     24 non-null     int64  \n",
      " 24  entity_condition_1                   24 non-null     int32  \n",
      " 25  number_of_record_axis_conditions     24 non-null     int64  \n",
      " 26  record_condition_1                   24 non-null     int32  \n",
      " 27  race                                 24 non-null     int64  \n",
      " 28  race_recode_3                        24 non-null     int64  \n",
      " 29  race_recode_5                        24 non-null     int64  \n",
      " 30  hispanic_origin                      24 non-null     int64  \n",
      " 31  hispanic_originrace_recode           24 non-null     int64  \n",
      "dtypes: float64(2), int32(5), int64(24), object(1)\n",
      "memory usage: 5.7+ KB\n",
      "<class 'pandas.core.frame.DataFrame'>\n",
      "Int64Index: 1048575 entries, 0 to 1048574\n",
      "Data columns (total 32 columns):\n",
      " #   Column                               Non-Null Count    Dtype  \n",
      "---  ------                               --------------    -----  \n",
      " 0   ID                                   1048575 non-null  int64  \n",
      " 1   resident_status                      1048575 non-null  int64  \n",
      " 2   education_2003_revision              1048575 non-null  float64\n",
      " 3   education_reporting_flag             1048575 non-null  int64  \n",
      " 4   month_of_death                       1048575 non-null  int64  \n",
      " 5   sex                                  1048575 non-null  int64  \n",
      " 6   detail_age_type                      1048575 non-null  int64  \n",
      " 7   detail_age                           1048575 non-null  int64  \n",
      " 8   age_recode_52                        1048575 non-null  int64  \n",
      " 9   age_recode_27                        1048575 non-null  int64  \n",
      " 10  age_recode_12                        1048575 non-null  int64  \n",
      " 11  place_of_death_and_decedents_status  1048575 non-null  int64  \n",
      " 12  marital_status                       1048575 non-null  int64  \n",
      " 13  day_of_week_of_death                 1048575 non-null  int64  \n",
      " 14  current_data_year                    1048575 non-null  int64  \n",
      " 15  injury_at_work                       1048575 non-null  object \n",
      " 16  manner_of_death                      1048575 non-null  float64\n",
      " 17  method_of_disposition                1048575 non-null  int32  \n",
      " 18  autopsy                              1048575 non-null  int32  \n",
      " 19  icd_code_10th_revision               1048575 non-null  int32  \n",
      " 20  358_cause_recode                     1048575 non-null  int64  \n",
      " 21  113_cause_recode                     1048575 non-null  int64  \n",
      " 22  39_cause_recode                      1048575 non-null  int64  \n",
      " 23  number_of_entity_axis_conditions     1048575 non-null  int64  \n",
      " 24  entity_condition_1                   1048575 non-null  int32  \n",
      " 25  number_of_record_axis_conditions     1048575 non-null  int64  \n",
      " 26  record_condition_1                   1048575 non-null  int32  \n",
      " 27  race                                 1048575 non-null  int64  \n",
      " 28  race_recode_3                        1048575 non-null  int64  \n",
      " 29  race_recode_5                        1048575 non-null  int64  \n",
      " 30  hispanic_origin                      1048575 non-null  int64  \n",
      " 31  hispanic_originrace_recode           1048575 non-null  int64  \n",
      "dtypes: float64(2), int32(5), int64(24), object(1)\n",
      "memory usage: 244.0+ MB\n"
     ]
    }
   ],
   "source": [
    "df_sub.info()\n",
    "df.info()"
   ]
  },
  {
   "cell_type": "code",
   "execution_count": 63,
   "metadata": {
    "pycharm": {
     "name": "#%%\n"
    }
   },
   "outputs": [
    {
     "name": "stdout",
     "output_type": "stream",
     "text": [
      "<class 'pandas.core.frame.DataFrame'>\n",
      "Int64Index: 24 entries, 786467 to 330515\n",
      "Data columns (total 32 columns):\n",
      " #   Column                               Non-Null Count  Dtype  \n",
      "---  ------                               --------------  -----  \n",
      " 0   ID                                   24 non-null     int64  \n",
      " 1   resident_status                      24 non-null     int64  \n",
      " 2   education_2003_revision              24 non-null     float64\n",
      " 3   education_reporting_flag             24 non-null     int64  \n",
      " 4   month_of_death                       24 non-null     int64  \n",
      " 5   sex                                  24 non-null     int64  \n",
      " 6   detail_age_type                      24 non-null     int64  \n",
      " 7   detail_age                           24 non-null     int64  \n",
      " 8   age_recode_52                        24 non-null     int64  \n",
      " 9   age_recode_27                        24 non-null     int64  \n",
      " 10  age_recode_12                        24 non-null     int64  \n",
      " 11  place_of_death_and_decedents_status  24 non-null     int64  \n",
      " 12  marital_status                       24 non-null     int64  \n",
      " 13  day_of_week_of_death                 24 non-null     int64  \n",
      " 14  current_data_year                    24 non-null     int64  \n",
      " 15  injury_at_work                       24 non-null     int32  \n",
      " 16  manner_of_death                      24 non-null     float64\n",
      " 17  method_of_disposition                24 non-null     int32  \n",
      " 18  autopsy                              24 non-null     int32  \n",
      " 19  icd_code_10th_revision               24 non-null     int32  \n",
      " 20  358_cause_recode                     24 non-null     int64  \n",
      " 21  113_cause_recode                     24 non-null     int64  \n",
      " 22  39_cause_recode                      24 non-null     int64  \n",
      " 23  number_of_entity_axis_conditions     24 non-null     int64  \n",
      " 24  entity_condition_1                   24 non-null     int32  \n",
      " 25  number_of_record_axis_conditions     24 non-null     int64  \n",
      " 26  record_condition_1                   24 non-null     int32  \n",
      " 27  race                                 24 non-null     int64  \n",
      " 28  race_recode_3                        24 non-null     int64  \n",
      " 29  race_recode_5                        24 non-null     int64  \n",
      " 30  hispanic_origin                      24 non-null     int64  \n",
      " 31  hispanic_originrace_recode           24 non-null     int64  \n",
      "dtypes: float64(2), int32(6), int64(24)\n",
      "memory usage: 5.6 KB\n",
      "<class 'pandas.core.frame.DataFrame'>\n",
      "Int64Index: 1048575 entries, 0 to 1048574\n",
      "Data columns (total 32 columns):\n",
      " #   Column                               Non-Null Count    Dtype  \n",
      "---  ------                               --------------    -----  \n",
      " 0   ID                                   1048575 non-null  int64  \n",
      " 1   resident_status                      1048575 non-null  int64  \n",
      " 2   education_2003_revision              1048575 non-null  float64\n",
      " 3   education_reporting_flag             1048575 non-null  int64  \n",
      " 4   month_of_death                       1048575 non-null  int64  \n",
      " 5   sex                                  1048575 non-null  int64  \n",
      " 6   detail_age_type                      1048575 non-null  int64  \n",
      " 7   detail_age                           1048575 non-null  int64  \n",
      " 8   age_recode_52                        1048575 non-null  int64  \n",
      " 9   age_recode_27                        1048575 non-null  int64  \n",
      " 10  age_recode_12                        1048575 non-null  int64  \n",
      " 11  place_of_death_and_decedents_status  1048575 non-null  int64  \n",
      " 12  marital_status                       1048575 non-null  int64  \n",
      " 13  day_of_week_of_death                 1048575 non-null  int64  \n",
      " 14  current_data_year                    1048575 non-null  int64  \n",
      " 15  injury_at_work                       1048575 non-null  int32  \n",
      " 16  manner_of_death                      1048575 non-null  float64\n",
      " 17  method_of_disposition                1048575 non-null  int32  \n",
      " 18  autopsy                              1048575 non-null  int32  \n",
      " 19  icd_code_10th_revision               1048575 non-null  int32  \n",
      " 20  358_cause_recode                     1048575 non-null  int64  \n",
      " 21  113_cause_recode                     1048575 non-null  int64  \n",
      " 22  39_cause_recode                      1048575 non-null  int64  \n",
      " 23  number_of_entity_axis_conditions     1048575 non-null  int64  \n",
      " 24  entity_condition_1                   1048575 non-null  int32  \n",
      " 25  number_of_record_axis_conditions     1048575 non-null  int64  \n",
      " 26  record_condition_1                   1048575 non-null  int32  \n",
      " 27  race                                 1048575 non-null  int64  \n",
      " 28  race_recode_3                        1048575 non-null  int64  \n",
      " 29  race_recode_5                        1048575 non-null  int64  \n",
      " 30  hispanic_origin                      1048575 non-null  int64  \n",
      " 31  hispanic_originrace_recode           1048575 non-null  int64  \n",
      "dtypes: float64(2), int32(6), int64(24)\n",
      "memory usage: 240.0 MB\n"
     ]
    }
   ],
   "source": [
    "df_sub['injury_at_work'] = le.fit_transform(df_sub['injury_at_work'])\n",
    "df['injury_at_work'] = le.fit_transform(df['injury_at_work'])\n",
    "df_sub.info()\n",
    "df.info()"
   ]
  },
  {
   "cell_type": "code",
   "execution_count": 64,
   "metadata": {
    "pycharm": {
     "name": "#%%\n"
    },
    "scrolled": true
   },
   "outputs": [
    {
     "name": "stderr",
     "output_type": "stream",
     "text": [
      "100%|██████████| 24/24 [00:00<00:00, 62.26it/s]\n"
     ]
    }
   ],
   "source": [
    "correlation_list = []\n",
    "for i, index_i in tqdm(enumerate(df_sub.index, 1), total=df_sub.shape[0]):\n",
    "    for j, index_j in enumerate(df_sub.index, 1):\n",
    "        if i < j:\n",
    "            id_i = df_sub.loc[index_i].ID\n",
    "            id_j = df_sub.loc[index_j].ID\n",
    "            correlation, p_value = spearmanr(df_sub.loc[index_i][1:], df_sub.loc[index_j][1:])\n",
    "            correlation_list.append((id_i, id_j, correlation))"
   ]
  },
  {
   "cell_type": "code",
   "execution_count": 65,
   "metadata": {
    "pycharm": {
     "name": "#%%\n"
    }
   },
   "outputs": [
    {
     "name": "stderr",
     "output_type": "stream",
     "text": [
      "100%|██████████| 1000/1000 [12:05<00:00,  1.38it/s]\n"
     ]
    }
   ],
   "source": [
    "correlation_list_complete = []\n",
    "df_sub_2 = df.sample(n=1000)\n",
    "for i, index_i in tqdm(enumerate(df_sub_2.index, 1), total=df_sub_2.shape[0]):\n",
    "    for j, index_j in enumerate(df_sub_2.index, 1):\n",
    "        if i < j:\n",
    "            id_i = df_sub_2.loc[index_i].ID\n",
    "            id_j = df_sub_2.loc[index_j].ID\n",
    "            correlation, p_value = spearmanr(df.loc[index_i][1:], df_sub_2.loc[index_j][1:])\n",
    "            correlation_list_complete.append((id_i, id_j, correlation))"
   ]
  },
  {
   "cell_type": "code",
   "execution_count": 66,
   "metadata": {
    "pycharm": {
     "name": "#%%\n"
    }
   },
   "outputs": [
    {
     "name": "stdout",
     "output_type": "stream",
     "text": [
      "\n",
      "False\n"
     ]
    }
   ],
   "source": [
    "# Create a graph\n",
    "G1 = nx.Graph()\n",
    "G1.add_nodes_from({v for v, _, _ in correlation_list_complete})\n",
    "\n",
    "# E-Neighborhood Graph\n",
    "#v,u --> correlation > E\n",
    "for v, u, c in correlation_list_complete:\n",
    "    if c >0.8:\n",
    "        G1.add_edge(v, u, weight=c)\n",
    "        \n",
    "print(G1)\n",
    "print(is_complete(G1))"
   ]
  },
  {
   "cell_type": "code",
   "execution_count": 67,
   "metadata": {
    "pycharm": {
     "name": "#%%\n"
    }
   },
   "outputs": [],
   "source": [
    "# Draw the graph\n",
    "def draw_net(graph):\n",
    "  pos = nx.circular_layout(graph)\n",
    "\n",
    "  edge_labels = {(u,v): f\"{c:.3f}\" for (u,v,c) in graph.edges(data=\"weight\")}\n",
    "  plt.figure(figsize=(15, 15))\n",
    "  nx.draw(graph, pos, with_labels=True)\n",
    "  nx.draw_networkx_edge_labels(graph, pos, edge_labels=edge_labels, font_size=12, font_color=\"red\")\n",
    "  plt.show()"
   ]
  },
  {
   "cell_type": "code",
   "execution_count": null,
   "metadata": {
    "pycharm": {
     "name": "#%%\n"
    }
   },
   "outputs": [],
   "source": [
    "draw_net(G1)"
   ]
  },
  {
   "cell_type": "code",
   "execution_count": null,
   "metadata": {
    "pycharm": {
     "name": "#%%\n"
    }
   },
   "outputs": [],
   "source": [
    "# Create a dictionary to store the  measurements for each node\n",
    "people = df_sub_2[\"ID\"].tolist()\n",
    "\n",
    "measurements = {\n",
    "    'ID': [i for i in people],\n",
    "    'Degree Centrality': nx.degree_centrality(G1).values(),\n",
    "    'Betweenness Centrality': nx.betweenness_centrality(G1).values(),\n",
    "    'Closeness Centrality': nx.closeness_centrality(G1).values(),\n",
    "    'Degree': [degree for node, degree in G1.degree()],\n",
    "    #Eigenvector Centrality=is a measure of the influence of a node in a network.\n",
    "    'Eigenvector Centrality': nx.eigenvector_centrality(G1).values(),\n",
    "    'Global clustering coefficient': nx.average_clustering(G1),\n",
    "}\n",
    "\n",
    "# Convert the dictionary to a pandas dataframe\n",
    "dff = pd.DataFrame(measurements)\n",
    "\n",
    "# Set the index as the node name\n",
    "dff.set_index('ID', inplace=True)\n",
    "\n",
    "# Display the table\n",
    "dff"
   ]
  },
  {
   "cell_type": "code",
   "execution_count": null,
   "metadata": {
    "pycharm": {
     "name": "#%%\n"
    }
   },
   "outputs": [],
   "source": [
    "all = pd.concat([df_sub_2,dff],axis=1)\n",
    "all"
   ]
  },
  {
   "cell_type": "code",
   "execution_count": null,
   "metadata": {
    "pycharm": {
     "name": "#%%\n"
    }
   },
   "outputs": [],
   "source": [
    "all.to_csv(\"dataWithNewFeature.csv\",index=False,header=True)"
   ]
  },
  {
   "cell_type": "code",
   "execution_count": null,
   "outputs": [],
   "source": [
    "import pandas as pd\n",
    "\n",
    "df1 = pd.read_csv('1000Samples.csv', header=0)\n",
    "df2 = pd.read_csv('measurements.csv', header=0)\n",
    "\n",
    "result = pd.concat([df1, df2],axis=1)\n",
    "\n",
    "result"
   ],
   "metadata": {
    "collapsed": false,
    "pycharm": {
     "name": "#%%\n"
    }
   }
  },
  {
   "cell_type": "code",
   "execution_count": null,
   "outputs": [],
   "source": [
    "result.to_csv('dataWithAllFeature.csv', index=False)"
   ],
   "metadata": {
    "collapsed": false,
    "pycharm": {
     "name": "#%%\n"
    }
   }
  },
  {
   "cell_type": "code",
   "execution_count": 4,
   "metadata": {
    "pycharm": {
     "name": "#%%\n"
    }
   },
   "outputs": [],
   "source": [
    "result.to_csv('dataWithAllFeature.csv', index=False)"
   ]
  },
  {
   "cell_type": "code",
   "execution_count": null,
   "outputs": [],
   "source": [
    "G1.nodes"
   ],
   "metadata": {
    "collapsed": false,
    "pycharm": {
     "name": "#%%\n"
    }
   }
  },
  {
   "cell_type": "code",
   "execution_count": null,
   "outputs": [],
   "source": [
    "G1.edges()"
   ],
   "metadata": {
    "collapsed": false,
    "pycharm": {
     "name": "#%%\n"
    }
   }
  },
  {
   "cell_type": "code",
   "execution_count": null,
   "outputs": [],
   "source": [
    "G1.degree()"
   ],
   "metadata": {
    "collapsed": false,
    "pycharm": {
     "name": "#%%\n"
    }
   }
  }
 ],
 "metadata": {
  "kernelspec": {
   "display_name": "Python 3",
   "language": "python",
   "name": "python3"
  },
  "language_info": {
   "codemirror_mode": {
    "name": "ipython",
    "version": 3
   },
   "file_extension": ".py",
   "mimetype": "text/x-python",
   "name": "python",
   "nbconvert_exporter": "python",
   "pygments_lexer": "ipython3",
   "version": "3.8.5"
  }
 },
 "nbformat": 4,
 "nbformat_minor": 4
}